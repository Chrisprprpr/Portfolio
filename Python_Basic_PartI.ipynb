{
  "nbformat": 4,
  "nbformat_minor": 0,
  "metadata": {
    "colab": {
      "provenance": [],
      "gpuType": "T4",
      "include_colab_link": true
    },
    "kernelspec": {
      "name": "python3",
      "display_name": "Python 3"
    },
    "language_info": {
      "name": "python"
    },
    "accelerator": "GPU"
  },
  "cells": [
    {
      "cell_type": "markdown",
      "metadata": {
        "id": "view-in-github",
        "colab_type": "text"
      },
      "source": [
        "<a href=\"https://colab.research.google.com/github/Chrisprprpr/Portfolio/blob/main/Python_Basic_PartI.ipynb\" target=\"_parent\"><img src=\"https://colab.research.google.com/assets/colab-badge.svg\" alt=\"Open In Colab\"/></a>"
      ]
    },
    {
      "cell_type": "markdown",
      "source": [
        "**Using GPU**"
      ],
      "metadata": {
        "id": "G2PllyN8GZul"
      }
    },
    {
      "cell_type": "code",
      "source": [
        "!apt-get --purge remove cuda nvidia* libnvidia-*\n",
        "!dpkg -l | grep cuda- | awk '{print $2}' | xargs -n1 dpkg --purge\n",
        "!apt-get remove cuda-*\n",
        "!apt autoremove\n",
        "!apt-get update\n"
      ],
      "metadata": {
        "colab": {
          "base_uri": "https://localhost:8080/"
        },
        "id": "aCrrk_PwGTD0",
        "outputId": "fce633de-5851-4ca4-e3fc-361309dc2a07"
      },
      "execution_count": null,
      "outputs": [
        {
          "output_type": "stream",
          "name": "stdout",
          "text": [
            "Reading package lists... Done\n",
            "Building dependency tree... Done\n",
            "Reading state information... Done\n",
            "Note, selecting 'nvidia-docker2' for glob 'nvidia*'\n",
            "Note, selecting 'nvidia-cuda-toolkit-doc' for glob 'nvidia*'\n",
            "Note, selecting 'nvidia-dkms-450-server' for glob 'nvidia*'\n",
            "Note, selecting 'nvidia-headless-390' for glob 'nvidia*'\n",
            "Note, selecting 'nvidia-cuda-toolkit-gcc' for glob 'nvidia*'\n",
            "Note, selecting 'nvidia-headless-418' for glob 'nvidia*'\n",
            "Note, selecting 'nvidia-headless-430' for glob 'nvidia*'\n",
            "Note, selecting 'nvidia-headless-435' for glob 'nvidia*'\n",
            "Note, selecting 'nvidia-headless-440' for glob 'nvidia*'\n",
            "Note, selecting 'nvidia-headless-450' for glob 'nvidia*'\n",
            "Note, selecting 'nvidia-headless-455' for glob 'nvidia*'\n",
            "Note, selecting 'nvidia-headless-460' for glob 'nvidia*'\n",
            "Note, selecting 'nvidia-headless-465' for glob 'nvidia*'\n",
            "Note, selecting 'nvidia-headless-470' for glob 'nvidia*'\n",
            "Note, selecting 'nvidia-dkms-470-server' for glob 'nvidia*'\n",
            "Note, selecting 'nvidia-headless-495' for glob 'nvidia*'\n",
            "Note, selecting 'nvidia-headless-510' for glob 'nvidia*'\n",
            "Note, selecting 'nvidia-headless-515' for glob 'nvidia*'\n",
            "Note, selecting 'nvidia-compute-utils-515-server' for glob 'nvidia*'\n",
            "Note, selecting 'nvidia-headless-520' for glob 'nvidia*'\n",
            "Note, selecting 'nvidia-headless-525' for glob 'nvidia*'\n",
            "Note, selecting 'nvidia-headless-530' for glob 'nvidia*'\n",
            "Note, selecting 'nvidia-headless-535' for glob 'nvidia*'\n",
            "Note, selecting 'nvidia-driver-440-server' for glob 'nvidia*'\n",
            "Note, selecting 'nvidia-fabricmanager-dev' for glob 'nvidia*'\n",
            "Note, selecting 'nvidia-compute-utils-535-server' for glob 'nvidia*'\n",
            "Note, selecting 'nvidia-325-updates' for glob 'nvidia*'\n",
            "Note, selecting 'nvidia-driver-460-server' for glob 'nvidia*'\n",
            "Note, selecting 'nvidia-primus-vk-common' for glob 'nvidia*'\n",
            "Note, selecting 'nvidia-opencl-dev' for glob 'nvidia*'\n",
            "Note, selecting 'nvidia-kernel-open-515' for glob 'nvidia*'\n",
            "Note, selecting 'nvidia-kernel-open-520' for glob 'nvidia*'\n",
            "Note, selecting 'nvidia-kernel-open-525' for glob 'nvidia*'\n",
            "Note, selecting 'nvidia-kernel-open-530' for glob 'nvidia*'\n",
            "Note, selecting 'nvidia-kernel-open-535' for glob 'nvidia*'\n",
            "Note, selecting 'nvidia-kernel-common-418-server' for glob 'nvidia*'\n",
            "Note, selecting 'nvidia-cg-toolkit' for glob 'nvidia*'\n",
            "Note, selecting 'nvidia-kernel-common-525-server' for glob 'nvidia*'\n",
            "Note, selecting 'nvidia-dkms-510-server' for glob 'nvidia*'\n",
            "Note, selecting 'nvidia-libopencl1-dev' for glob 'nvidia*'\n",
            "Note, selecting 'nvidia-texture-tools' for glob 'nvidia*'\n",
            "Note, selecting 'nvidia-driver-525-open' for glob 'nvidia*'\n",
            "Note, selecting 'nvidia-opencl-icd' for glob 'nvidia*'\n",
            "Note, selecting 'nvidia-headless-450-server' for glob 'nvidia*'\n",
            "Note, selecting 'nvidia-compute-utils-390' for glob 'nvidia*'\n",
            "Note, selecting 'nvidia-utils' for glob 'nvidia*'\n",
            "Note, selecting 'nvidia-compute-utils-418' for glob 'nvidia*'\n",
            "Note, selecting 'nvidia-compute-utils-430' for glob 'nvidia*'\n",
            "Note, selecting 'nvidia-compute-utils-435' for glob 'nvidia*'\n",
            "Note, selecting 'nvidia-compute-utils-440' for glob 'nvidia*'\n",
            "Note, selecting 'nvidia-compute-utils-450' for glob 'nvidia*'\n",
            "Note, selecting 'nvidia-compute-utils-455' for glob 'nvidia*'\n",
            "Note, selecting 'nvidia-compute-utils-460' for glob 'nvidia*'\n",
            "Note, selecting 'nvidia-compute-utils-465' for glob 'nvidia*'\n",
            "Note, selecting 'nvidia-compute-utils-470' for glob 'nvidia*'\n",
            "Note, selecting 'nvidia-compute-utils-495' for glob 'nvidia*'\n",
            "Note, selecting 'nvidia-dkms-390' for glob 'nvidia*'\n",
            "Note, selecting 'nvidia-headless-470-server' for glob 'nvidia*'\n",
            "Note, selecting 'nvidia-compute-utils-510' for glob 'nvidia*'\n",
            "Note, selecting 'nvidia-compute-utils-515' for glob 'nvidia*'\n",
            "Note, selecting 'nvidia-compute-utils-520' for glob 'nvidia*'\n",
            "Note, selecting 'nvidia-compute-utils-525' for glob 'nvidia*'\n",
            "Note, selecting 'nvidia-compute-utils-530' for glob 'nvidia*'\n",
            "Note, selecting 'nvidia-compute-utils-535' for glob 'nvidia*'\n",
            "Note, selecting 'nvidia-driver-lrm-535-open' for glob 'nvidia*'\n",
            "Note, selecting 'nvidia-dkms-418' for glob 'nvidia*'\n",
            "Note, selecting 'nvidia-dkms-430' for glob 'nvidia*'\n",
            "Note, selecting 'nvidia-dkms-435' for glob 'nvidia*'\n",
            "Note, selecting 'nvidia-dkms-440' for glob 'nvidia*'\n",
            "Note, selecting 'nvidia-dkms-450' for glob 'nvidia*'\n",
            "Note, selecting 'nvidia-dkms-455' for glob 'nvidia*'\n",
            "Note, selecting 'nvidia-dkms-460' for glob 'nvidia*'\n",
            "Note, selecting 'nvidia-dkms-465' for glob 'nvidia*'\n",
            "Note, selecting 'nvidia-dkms-470' for glob 'nvidia*'\n",
            "Note, selecting 'nvidia-dkms-495' for glob 'nvidia*'\n",
            "Note, selecting 'nvidia-381-updates' for glob 'nvidia*'\n",
            "Note, selecting 'nvidia-dkms-510' for glob 'nvidia*'\n",
            "Note, selecting 'nvidia-dkms-515' for glob 'nvidia*'\n",
            "Note, selecting 'nvidia-dkms-520' for glob 'nvidia*'\n",
            "Note, selecting 'nvidia-dkms-525' for glob 'nvidia*'\n",
            "Note, selecting 'nvidia-dkms-530' for glob 'nvidia*'\n",
            "Note, selecting 'nvidia-dkms-535' for glob 'nvidia*'\n",
            "Note, selecting 'nvidia-fs' for glob 'nvidia*'\n",
            "Note, selecting 'nvidia-container-runtime' for glob 'nvidia*'\n",
            "Note, selecting 'nvidia-driver-390' for glob 'nvidia*'\n",
            "Note, selecting 'nvidia-driver-410' for glob 'nvidia*'\n",
            "Note, selecting 'nvidia-driver-418' for glob 'nvidia*'\n",
            "Note, selecting 'nvidia-driver-430' for glob 'nvidia*'\n",
            "Note, selecting 'nvidia-driver-435' for glob 'nvidia*'\n",
            "Note, selecting 'nvidia-driver-440' for glob 'nvidia*'\n",
            "Note, selecting 'nvidia-driver-450' for glob 'nvidia*'\n",
            "Note, selecting 'nvidia-driver-455' for glob 'nvidia*'\n",
            "Note, selecting 'nvidia-driver-460' for glob 'nvidia*'\n",
            "Note, selecting 'nvidia-driver-465' for glob 'nvidia*'\n",
            "Note, selecting 'nvidia-driver-470' for glob 'nvidia*'\n",
            "Note, selecting 'nvidia-driver-495' for glob 'nvidia*'\n",
            "Note, selecting 'nvidia-driver-510' for glob 'nvidia*'\n",
            "Note, selecting 'nvidia-driver-515' for glob 'nvidia*'\n",
            "Note, selecting 'nvidia-driver-520' for glob 'nvidia*'\n",
            "Note, selecting 'nvidia-driver-525' for glob 'nvidia*'\n",
            "Note, selecting 'nvidia-driver-530' for glob 'nvidia*'\n",
            "Note, selecting 'nvidia-driver-535' for glob 'nvidia*'\n",
            "Note, selecting 'nvidia-dkms-440-server' for glob 'nvidia*'\n",
            "Note, selecting 'nvidia-dkms-460-server' for glob 'nvidia*'\n",
            "Note, selecting 'nvidia-headless-510-server' for glob 'nvidia*'\n",
            "Note, selecting 'nvidia-387-updates' for glob 'nvidia*'\n",
            "Note, selecting 'nvidia-headless-no-dkms-515-server' for glob 'nvidia*'\n",
            "Note, selecting 'nvidia-dkms-520-open' for glob 'nvidia*'\n",
            "Note, selecting 'nvidia-utils-535-server' for glob 'nvidia*'\n",
            "Note, selecting 'nvidia-driver-450-server' for glob 'nvidia*'\n",
            "Note, selecting 'nvidia-headless-no-dkms-535-server' for glob 'nvidia*'\n",
            "Note, selecting 'nvidia-driver-470-server' for glob 'nvidia*'\n",
            "Note, selecting 'nvidia-primus-vk-wrapper' for glob 'nvidia*'\n",
            "Note, selecting 'nvidia-kernel-common-515-server' for glob 'nvidia*'\n",
            "Note, selecting 'nvidia-kernel-source-535-server-open' for glob 'nvidia*'\n",
            "Note, selecting 'nvidia-docker' for glob 'nvidia*'\n",
            "Note, selecting 'nvidia-kernel-common-535-server' for glob 'nvidia*'\n",
            "Note, selecting 'nvidia-378-updates' for glob 'nvidia*'\n",
            "Note, selecting 'nvidia-313-updates' for glob 'nvidia*'\n",
            "Note, selecting 'nvidia-headless-440-server' for glob 'nvidia*'\n",
            "Note, selecting 'nvidia-headless-460-server' for glob 'nvidia*'\n",
            "Note, selecting 'nvidia-utils-390' for glob 'nvidia*'\n",
            "Note, selecting 'nvidia-utils-418' for glob 'nvidia*'\n",
            "Note, selecting 'nvidia-headless' for glob 'nvidia*'\n",
            "Note, selecting 'nvidia-utils-430' for glob 'nvidia*'\n",
            "Note, selecting 'nvidia-utils-435' for glob 'nvidia*'\n",
            "Note, selecting 'nvidia-utils-440' for glob 'nvidia*'\n",
            "Note, selecting 'nvidia-utils-450' for glob 'nvidia*'\n",
            "Note, selecting 'nvidia-utils-455' for glob 'nvidia*'\n",
            "Note, selecting 'nvidia-utils-460' for glob 'nvidia*'\n",
            "Note, selecting 'nvidia-utils-465' for glob 'nvidia*'\n",
            "Note, selecting 'nvidia-utils-470' for glob 'nvidia*'\n",
            "Note, selecting 'nvidia-utils-495' for glob 'nvidia*'\n",
            "Note, selecting 'nvidia-utils-510' for glob 'nvidia*'\n",
            "Note, selecting 'nvidia-utils-515' for glob 'nvidia*'\n",
            "Note, selecting 'nvidia-utils-520' for glob 'nvidia*'\n",
            "Note, selecting 'nvidia-utils-525' for glob 'nvidia*'\n",
            "Note, selecting 'nvidia-utils-530' for glob 'nvidia*'\n",
            "Note, selecting 'nvidia-utils-535' for glob 'nvidia*'\n",
            "Note, selecting 'nvidia-319-updates' for glob 'nvidia*'\n",
            "Note, selecting 'nvidia-kernel-source-510-server' for glob 'nvidia*'\n",
            "Note, selecting 'nvidia-kernel-source-530-open' for glob 'nvidia*'\n",
            "Note, selecting 'nvidia-egl-wayland-common' for glob 'nvidia*'\n",
            "Note, selecting 'nvidia-384-updates' for glob 'nvidia*'\n",
            "Note, selecting 'nvidia-304-updates' for glob 'nvidia*'\n",
            "Note, selecting 'nvidia-utils-418-server' for glob 'nvidia*'\n",
            "Note, selecting 'nvidia-utils-525-server' for glob 'nvidia*'\n",
            "Note, selecting 'nvidia-headless-515-open' for glob 'nvidia*'\n",
            "Note, selecting 'nvidia-headless-no-dkms-418-server' for glob 'nvidia*'\n",
            "Note, selecting 'nvidia-headless-no-dkms-525-server' for glob 'nvidia*'\n",
            "Note, selecting 'nvidia-kernel-source-440-server' for glob 'nvidia*'\n",
            "Note, selecting 'nvidia-375-updates' for glob 'nvidia*'\n",
            "Note, selecting 'nvidia-310-updates' for glob 'nvidia*'\n",
            "Note, selecting 'nvidia-kernel-source-460-server' for glob 'nvidia*'\n",
            "Note, selecting 'nvidia-kernel-source-515-open' for glob 'nvidia*'\n",
            "Note, selecting 'nvidia-headless-no-dkms-535-server-open' for glob 'nvidia*'\n",
            "Note, selecting 'nvidia-headless-no-dkms-530-open' for glob 'nvidia*'\n",
            "Note, selecting 'nvidia-364-updates' for glob 'nvidia*'\n",
            "Note, selecting 'nvidia-gds-11-7' for glob 'nvidia*'\n",
            "Note, selecting 'nvidia-gds-11-8' for glob 'nvidia*'\n",
            "Note, selecting 'nvidia-gds-12-0' for glob 'nvidia*'\n",
            "Note, selecting 'nvidia-gds-12-1' for glob 'nvidia*'\n",
            "Note, selecting 'nvidia-gds-12-2' for glob 'nvidia*'\n",
            "Note, selecting 'nvidia-utils-515-server' for glob 'nvidia*'\n",
            "Note, selecting 'nvidia-dkms-525-open' for glob 'nvidia*'\n",
            "Note, selecting 'nvidia-headless-no-dkms-515-open' for glob 'nvidia*'\n",
            "Note, selecting 'nvidia-headless-530-open' for glob 'nvidia*'\n",
            "Note, selecting 'nvidia-kernel-source-450-server' for glob 'nvidia*'\n",
            "Note, selecting 'nvidia-legacy-390xx-opencl-icd' for glob 'nvidia*'\n",
            "Note, selecting 'nvidia-kernel-source-470-server' for glob 'nvidia*'\n",
            "Note, selecting 'nvidia-profiler' for glob 'nvidia*'\n",
            "Note, selecting 'nvidia-361-updates' for glob 'nvidia*'\n",
            "Note, selecting 'nvidia-firmware-535-535.54.03' for glob 'nvidia*'\n",
            "Note, selecting 'nvidia-current-updates' for glob 'nvidia*'\n",
            "Note, selecting 'nvidia-compute-utils-510-server' for glob 'nvidia*'\n",
            "Note, selecting 'nvidia-visual-profiler' for glob 'nvidia*'\n",
            "Note, selecting 'nvidia-dkms-515-server' for glob 'nvidia*'\n",
            "Note, selecting 'nvidia-367-updates' for glob 'nvidia*'\n",
            "Note, selecting 'nvidia-firmware-535-server-535.98' for glob 'nvidia*'\n",
            "Note, selecting 'nvidia-dkms-535-server' for glob 'nvidia*'\n",
            "Note, selecting 'nvidia-kernel-common-390' for glob 'nvidia*'\n",
            "Note, selecting 'nvidia-kernel-common-396' for glob 'nvidia*'\n",
            "Note, selecting 'nvidia-kernel-common-418' for glob 'nvidia*'\n",
            "Note, selecting 'nvidia-kernel-common-430' for glob 'nvidia*'\n",
            "Note, selecting 'nvidia-kernel-common-435' for glob 'nvidia*'\n",
            "Note, selecting 'nvidia-kernel-common-440' for glob 'nvidia*'\n",
            "Note, selecting 'nvidia-kernel-common-450' for glob 'nvidia*'\n",
            "Note, selecting 'nvidia-kernel-common-455' for glob 'nvidia*'\n",
            "Note, selecting 'nvidia-kernel-common-460' for glob 'nvidia*'\n",
            "Note, selecting 'nvidia-kernel-common-465' for glob 'nvidia*'\n",
            "Note, selecting 'nvidia-kernel-common-470' for glob 'nvidia*'\n",
            "Note, selecting 'nvidia-kernel-common-495' for glob 'nvidia*'\n",
            "Note, selecting 'nvidia-kernel-source-535-open' for glob 'nvidia*'\n",
            "Note, selecting 'nvidia-legacy-390xx-smi' for glob 'nvidia*'\n",
            "Note, selecting 'nvidia-prebuilt-kernel' for glob 'nvidia*'\n",
            "Note, selecting 'nvidia-kernel-common-510' for glob 'nvidia*'\n",
            "Note, selecting 'nvidia-kernel-common-515' for glob 'nvidia*'\n",
            "Note, selecting 'nvidia-kernel-common-520' for glob 'nvidia*'\n",
            "Note, selecting 'nvidia-kernel-common-525' for glob 'nvidia*'\n",
            "Note, selecting 'nvidia-kernel-common-530' for glob 'nvidia*'\n",
            "Note, selecting 'nvidia-kernel-common-535' for glob 'nvidia*'\n",
            "Note, selecting 'nvidia-driver-418-server' for glob 'nvidia*'\n",
            "Note, selecting 'nvidia-current' for glob 'nvidia*'\n",
            "Note, selecting 'nvidia-compute-utils' for glob 'nvidia*'\n",
            "Note, selecting 'nvidia-driver-525-server' for glob 'nvidia*'\n",
            "Note, selecting 'nvidia-fs-modules' for glob 'nvidia*'\n",
            "Note, selecting 'nvidia-kernel-common' for glob 'nvidia*'\n",
            "Note, selecting 'nvidia-compute-utils-440-server' for glob 'nvidia*'\n",
            "Note, selecting 'nvidia-358-updates' for glob 'nvidia*'\n",
            "Note, selecting 'nvidia-driver-515-open' for glob 'nvidia*'\n",
            "Note, selecting 'nvidia-compute-utils-460-server' for glob 'nvidia*'\n",
            "Note, selecting 'nvidia-cuda-dev' for glob 'nvidia*'\n",
            "Note, selecting 'nvidia-cuda-doc' for glob 'nvidia*'\n",
            "Note, selecting 'nvidia-headless-515-server' for glob 'nvidia*'\n",
            "Note, selecting 'nvidia-fabricmanager' for glob 'nvidia*'\n",
            "Note, selecting 'nvidia-headless-535-server' for glob 'nvidia*'\n",
            "Note, selecting 'nvidia-cuda-gdb' for glob 'nvidia*'\n",
            "Note, selecting 'nvidia-340-dev' for glob 'nvidia*'\n",
            "Note, selecting 'nvidia-cuda-toolkit' for glob 'nvidia*'\n",
            "Note, selecting 'nvidia-headless-no-dkms-510-server' for glob 'nvidia*'\n",
            "Note, selecting 'nvidia-headless-no-dkms-535-open' for glob 'nvidia*'\n",
            "Note, selecting 'nvidia-dkms-418-server' for glob 'nvidia*'\n",
            "Note, selecting 'nvidia-dkms-525-server' for glob 'nvidia*'\n",
            "Note, selecting 'nvidia-prime' for glob 'nvidia*'\n",
            "Note, selecting 'nvidia-kernel-common-510-server' for glob 'nvidia*'\n",
            "Note, selecting 'nvidia-kernel-dkms' for glob 'nvidia*'\n",
            "Note, selecting 'nvidia-driver-515-server' for glob 'nvidia*'\n",
            "Note, selecting 'nvidia-dkms-515-open' for glob 'nvidia*'\n",
            "Note, selecting 'nvidia-355-updates' for glob 'nvidia*'\n",
            "Note, selecting 'nvidia-driver-535-server' for glob 'nvidia*'\n",
            "Note, selecting 'nvidia-headless-520-open' for glob 'nvidia*'\n",
            "Note, selecting 'nvidia-opencl-icd-340' for glob 'nvidia*'\n",
            "Note, selecting 'nvidia-opencl-icd-384' for glob 'nvidia*'\n",
            "Note, selecting 'nvidia-compute-utils-450-server' for glob 'nvidia*'\n",
            "Note, selecting 'nvidia-kernel-open' for glob 'nvidia*'\n",
            "Note, selecting 'nvidia-304' for glob 'nvidia*'\n",
            "Note, selecting 'nvidia-310' for glob 'nvidia*'\n",
            "Note, selecting 'nvidia-313' for glob 'nvidia*'\n",
            "Note, selecting 'nvidia-319' for glob 'nvidia*'\n",
            "Note, selecting 'nvidia-325' for glob 'nvidia*'\n",
            "Note, selecting 'nvidia-331' for glob 'nvidia*'\n",
            "Note, selecting 'nvidia-334' for glob 'nvidia*'\n",
            "Note, selecting 'nvidia-337' for glob 'nvidia*'\n",
            "Note, selecting 'nvidia-340' for glob 'nvidia*'\n",
            "Note, selecting 'nvidia-343' for glob 'nvidia*'\n",
            "Note, selecting 'nvidia-346' for glob 'nvidia*'\n",
            "Note, selecting 'nvidia-349' for glob 'nvidia*'\n",
            "Note, selecting 'nvidia-352' for glob 'nvidia*'\n",
            "Note, selecting 'nvidia-355' for glob 'nvidia*'\n",
            "Note, selecting 'nvidia-358' for glob 'nvidia*'\n",
            "Note, selecting 'nvidia-361' for glob 'nvidia*'\n",
            "Note, selecting 'nvidia-364' for glob 'nvidia*'\n",
            "Note, selecting 'nvidia-367' for glob 'nvidia*'\n",
            "Note, selecting 'nvidia-375' for glob 'nvidia*'\n",
            "Note, selecting 'nvidia-378' for glob 'nvidia*'\n",
            "Note, selecting 'nvidia-381' for glob 'nvidia*'\n",
            "Note, selecting 'nvidia-384' for glob 'nvidia*'\n",
            "Note, selecting 'nvidia-387' for glob 'nvidia*'\n",
            "Note, selecting 'nvidia-390' for glob 'nvidia*'\n",
            "Note, selecting 'nvidia-fs-dkms' for glob 'nvidia*'\n",
            "Note, selecting 'nvidia-compute-utils-470-server' for glob 'nvidia*'\n",
            "Note, selecting 'nvidia-kernel-common-440-server' for glob 'nvidia*'\n",
            "Note, selecting 'nvidia-headless-418-server' for glob 'nvidia*'\n",
            "Note, selecting 'nvidia-340-uvm' for glob 'nvidia*'\n",
            "Note, selecting 'nvidia-headless-525-server' for glob 'nvidia*'\n",
            "Note, selecting 'nvidia-headless-535-open' for glob 'nvidia*'\n",
            "Note, selecting 'nvidia-346-updates' for glob 'nvidia*'\n",
            "Note, selecting 'nvidia-fs-prebuilt-kernel' for glob 'nvidia*'\n",
            "Note, selecting 'nvidia-kernel-common-460-server' for glob 'nvidia*'\n",
            "Note, selecting 'nvidia' for glob 'nvidia*'\n",
            "Note, selecting 'nvidia-driver-530-open' for glob 'nvidia*'\n",
            "Note, selecting 'nvidia-kernel-source-520-open' for glob 'nvidia*'\n",
            "Note, selecting 'nvidia-headless-535-server-open' for glob 'nvidia*'\n",
            "Note, selecting 'nvidia-driver-lrm-535' for glob 'nvidia*'\n",
            "Note, selecting 'nvidia-settings' for glob 'nvidia*'\n",
            "Note, selecting 'nvidia-headless-no-dkms-390' for glob 'nvidia*'\n",
            "Note, selecting 'nvidia-headless-no-dkms-418' for glob 'nvidia*'\n",
            "Note, selecting 'nvidia-headless-no-dkms-430' for glob 'nvidia*'\n",
            "Note, selecting 'nvidia-headless-no-dkms-435' for glob 'nvidia*'\n",
            "Note, selecting 'nvidia-headless-no-dkms-440' for glob 'nvidia*'\n",
            "Note, selecting 'nvidia-headless-no-dkms-450' for glob 'nvidia*'\n",
            "Note, selecting 'nvidia-headless-no-dkms-455' for glob 'nvidia*'\n",
            "Note, selecting 'nvidia-headless-no-dkms-460' for glob 'nvidia*'\n",
            "Note, selecting 'nvidia-headless-no-dkms-465' for glob 'nvidia*'\n",
            "Note, selecting 'nvidia-headless-no-dkms-470' for glob 'nvidia*'\n",
            "Note, selecting 'nvidia-headless-no-dkms-495' for glob 'nvidia*'\n",
            "Note, selecting 'nvidia-container-runtime-hook' for glob 'nvidia*'\n",
            "Note, selecting 'nvidia-cudnn' for glob 'nvidia*'\n",
            "Note, selecting 'nvidia-headless-no-dkms-510' for glob 'nvidia*'\n",
            "Note, selecting 'nvidia-headless-no-dkms-515' for glob 'nvidia*'\n",
            "Note, selecting 'nvidia-headless-no-dkms-520' for glob 'nvidia*'\n",
            "Note, selecting 'nvidia-headless-no-dkms-525' for glob 'nvidia*'\n",
            "Note, selecting 'nvidia-headless-no-dkms-530' for glob 'nvidia*'\n",
            "Note, selecting 'nvidia-headless-no-dkms-535' for glob 'nvidia*'\n",
            "Note, selecting 'nvidia-352-updates' for glob 'nvidia*'\n",
            "Note, selecting 'nvidia-libopencl1' for glob 'nvidia*'\n",
            "Note, selecting 'nvidia-fabricmanager-dev-450' for glob 'nvidia*'\n",
            "Note, selecting 'nvidia-fabricmanager-dev-460' for glob 'nvidia*'\n",
            "Note, selecting 'nvidia-fabricmanager-dev-470' for glob 'nvidia*'\n",
            "Note, selecting 'nvidia-fabricmanager-dev-510' for glob 'nvidia*'\n",
            "Note, selecting 'nvidia-fabricmanager-dev-515' for glob 'nvidia*'\n",
            "Note, selecting 'nvidia-fabricmanager-dev-520' for glob 'nvidia*'\n",
            "Note, selecting 'nvidia-fabricmanager-dev-525' for glob 'nvidia*'\n",
            "Note, selecting 'nvidia-fabricmanager-dev-530' for glob 'nvidia*'\n",
            "Note, selecting 'nvidia-fabricmanager-dev-535' for glob 'nvidia*'\n",
            "Note, selecting 'nvidia-kernel-source-418-server' for glob 'nvidia*'\n",
            "Note, selecting 'nvidia-kernel-source-525-server' for glob 'nvidia*'\n",
            "Note, selecting 'nvidia-headless-no-dkms-450-server' for glob 'nvidia*'\n",
            "Note, selecting 'nvidia-dkms-530-open' for glob 'nvidia*'\n",
            "Note, selecting 'nvidia-headless-no-dkms-470-server' for glob 'nvidia*'\n",
            "Note, selecting 'nvidia-343-updates' for glob 'nvidia*'\n",
            "Note, selecting 'nvidia-headless-no-dkms-520-open' for glob 'nvidia*'\n",
            "Note, selecting 'nvidia-kernel-common-450-server' for glob 'nvidia*'\n",
            "Note, selecting 'nvidia-kernel-common-470-server' for glob 'nvidia*'\n",
            "Note, selecting 'nvidia-utils-510-server' for glob 'nvidia*'\n",
            "Note, selecting 'nvidia-349-updates' for glob 'nvidia*'\n",
            "Note, selecting 'nvidia-fabricmanager-450' for glob 'nvidia*'\n",
            "Note, selecting 'nvidia-fabricmanager-460' for glob 'nvidia*'\n",
            "Note, selecting 'nvidia-fabricmanager-470' for glob 'nvidia*'\n",
            "Note, selecting 'nvidia-fabricmanager-510' for glob 'nvidia*'\n",
            "Note, selecting 'nvidia-fabricmanager-515' for glob 'nvidia*'\n",
            "Note, selecting 'nvidia-fabricmanager-520' for glob 'nvidia*'\n",
            "Note, selecting 'nvidia-fabricmanager-525' for glob 'nvidia*'\n",
            "Note, selecting 'nvidia-fabricmanager-530' for glob 'nvidia*'\n",
            "Note, selecting 'nvidia-fabricmanager-535' for glob 'nvidia*'\n",
            "Note, selecting 'nvidia-334-updates' for glob 'nvidia*'\n",
            "Note, selecting 'nvidia-driver-535-server-open' for glob 'nvidia*'\n",
            "Note, selecting 'nvidia-container-toolkit' for glob 'nvidia*'\n",
            "Note, selecting 'nvidia-libopencl1-340' for glob 'nvidia*'\n",
            "Note, selecting 'nvidia-libopencl1-384' for glob 'nvidia*'\n",
            "Note, selecting 'nvidia-container-toolkit-base' for glob 'nvidia*'\n",
            "Note, selecting 'nvidia-utils-440-server' for glob 'nvidia*'\n",
            "Note, selecting 'nvidia-kernel-source-515-server' for glob 'nvidia*'\n",
            "Note, selecting 'nvidia-kernel-source-390' for glob 'nvidia*'\n",
            "Note, selecting 'nvidia-headless-no-dkms-440-server' for glob 'nvidia*'\n",
            "Note, selecting 'nvidia-340-updates' for glob 'nvidia*'\n",
            "Note, selecting 'nvidia-utils-460-server' for glob 'nvidia*'\n",
            "Note, selecting 'nvidia-kernel-source-418' for glob 'nvidia*'\n",
            "Note, selecting 'nvidia-kernel-source-430' for glob 'nvidia*'\n",
            "Note, selecting 'nvidia-kernel-source-435' for glob 'nvidia*'\n",
            "Note, selecting 'nvidia-kernel-source-440' for glob 'nvidia*'\n",
            "Note, selecting 'nvidia-kernel-source-450' for glob 'nvidia*'\n",
            "Note, selecting 'nvidia-kernel-source-455' for glob 'nvidia*'\n",
            "Note, selecting 'nvidia-kernel-source-460' for glob 'nvidia*'\n",
            "Note, selecting 'nvidia-kernel-source-465' for glob 'nvidia*'\n",
            "Note, selecting 'nvidia-kernel-source-470' for glob 'nvidia*'\n",
            "Note, selecting 'nvidia-kernel-source-495' for glob 'nvidia*'\n",
            "Note, selecting 'nvidia-kernel-source-510' for glob 'nvidia*'\n",
            "Note, selecting 'nvidia-kernel-source-515' for glob 'nvidia*'\n",
            "Note, selecting 'nvidia-headless-525-open' for glob 'nvidia*'\n",
            "Note, selecting 'nvidia-kernel-source-535-server' for glob 'nvidia*'\n",
            "Note, selecting 'nvidia-kernel-source-520' for glob 'nvidia*'\n",
            "Note, selecting 'nvidia-kernel-source-525' for glob 'nvidia*'\n",
            "Note, selecting 'nvidia-kernel-source-530' for glob 'nvidia*'\n",
            "Note, selecting 'nvidia-kernel-source-535' for glob 'nvidia*'\n",
            "Note, selecting 'nvidia-headless-no-dkms-460-server' for glob 'nvidia*'\n",
            "Note, selecting 'nvidia-driver-520-open' for glob 'nvidia*'\n",
            "Note, selecting 'nvidia-firmware-535-535.104.05' for glob 'nvidia*'\n",
            "Note, selecting 'nvidia-dkms-535-server-open' for glob 'nvidia*'\n",
            "Note, selecting 'nvidia-384-dev' for glob 'nvidia*'\n",
            "Note, selecting 'nvidia-experimental-304' for glob 'nvidia*'\n",
            "Note, selecting 'nvidia-experimental-310' for glob 'nvidia*'\n",
            "Note, selecting 'nvidia-experimental-313' for glob 'nvidia*'\n",
            "Note, selecting 'nvidia-experimental-319' for glob 'nvidia*'\n",
            "Note, selecting 'nvidia-experimental-325' for glob 'nvidia*'\n",
            "Note, selecting 'nvidia-experimental-331' for glob 'nvidia*'\n",
            "Note, selecting 'nvidia-experimental-334' for glob 'nvidia*'\n",
            "Note, selecting 'nvidia-experimental-337' for glob 'nvidia*'\n",
            "Note, selecting 'nvidia-experimental-340' for glob 'nvidia*'\n",
            "Note, selecting 'nvidia-experimental-343' for glob 'nvidia*'\n",
            "Note, selecting 'nvidia-experimental-346' for glob 'nvidia*'\n",
            "Note, selecting 'nvidia-experimental-349' for glob 'nvidia*'\n",
            "Note, selecting 'nvidia-experimental-352' for glob 'nvidia*'\n",
            "Note, selecting 'nvidia-experimental-355' for glob 'nvidia*'\n",
            "Note, selecting 'nvidia-experimental-358' for glob 'nvidia*'\n",
            "Note, selecting 'nvidia-experimental-361' for glob 'nvidia*'\n",
            "Note, selecting 'nvidia-experimental-364' for glob 'nvidia*'\n",
            "Note, selecting 'nvidia-experimental-367' for glob 'nvidia*'\n",
            "Note, selecting 'nvidia-experimental-375' for glob 'nvidia*'\n",
            "Note, selecting 'nvidia-experimental-378' for glob 'nvidia*'\n",
            "Note, selecting 'nvidia-experimental-381' for glob 'nvidia*'\n",
            "Note, selecting 'nvidia-experimental-384' for glob 'nvidia*'\n",
            "Note, selecting 'nvidia-experimental-387' for glob 'nvidia*'\n",
            "Note, selecting 'nvidia-firmware-535-server-535.104.05' for glob 'nvidia*'\n",
            "Note, selecting 'nvidia-331-updates' for glob 'nvidia*'\n",
            "Note, selecting 'nvidia-firmware-535-535.86.05' for glob 'nvidia*'\n",
            "Note, selecting 'nvidia-driver-535-open' for glob 'nvidia*'\n",
            "Note, selecting 'nvidia-kernel-source-525-open' for glob 'nvidia*'\n",
            "Note, selecting 'nvidia-337-updates' for glob 'nvidia*'\n",
            "Note, selecting 'nvidia-gds' for glob 'nvidia*'\n",
            "Note, selecting 'nvidia-firmware-535-server-535.54.03' for glob 'nvidia*'\n",
            "Note, selecting 'nvidia-compute-utils-418-server' for glob 'nvidia*'\n",
            "Note, selecting 'nvidia-fs-prebuilt' for glob 'nvidia*'\n",
            "Note, selecting 'nvidia-compute-utils-525-server' for glob 'nvidia*'\n",
            "Note, selecting 'nvidia-utils-450-server' for glob 'nvidia*'\n",
            "Note, selecting 'nvidia-settings-binary' for glob 'nvidia*'\n",
            "Note, selecting 'nvidia-dkms-kernel' for glob 'nvidia*'\n",
            "Note, selecting 'nvidia-modprobe' for glob 'nvidia*'\n",
            "Note, selecting 'nvidia-utils-470-server' for glob 'nvidia*'\n",
            "Note, selecting 'nvidia-driver-core-535' for glob 'nvidia*'\n",
            "Note, selecting 'nvidia-driver-core-535-open' for glob 'nvidia*'\n",
            "Note, selecting 'nvidia-cg-dev' for glob 'nvidia*'\n",
            "Note, selecting 'nvidia-dkms-535-open' for glob 'nvidia*'\n",
            "Note, selecting 'nvidia-cg-doc' for glob 'nvidia*'\n",
            "Note, selecting 'nvidia-kernel-source' for glob 'nvidia*'\n",
            "Note, selecting 'nvidia-common' for glob 'nvidia*'\n",
            "Note, selecting 'nvidia-persistenced' for glob 'nvidia*'\n",
            "Note, selecting 'nvidia-headless-no-dkms-525-open' for glob 'nvidia*'\n",
            "Note, selecting 'nvidia-driver-binary' for glob 'nvidia*'\n",
            "Note, selecting 'nvidia-smi' for glob 'nvidia*'\n",
            "Note, selecting 'nvidia-driver-510-server' for glob 'nvidia*'\n",
            "Note, selecting 'nvidia-firmware-535-535.98' for glob 'nvidia*'\n",
            "Package 'nvidia-egl-wayland-common' is not installed, so not removed\n",
            "Note, selecting 'nvidia-settings' instead of 'nvidia-settings-binary'\n",
            "Package 'nvidia-390' is not installed, so not removed\n",
            "Note, selecting 'libnvtt-bin' instead of 'nvidia-texture-tools'\n",
            "Package 'nvidia-libopencl1-dev' is not installed, so not removed\n",
            "Package 'nvidia-current' is not installed, so not removed\n",
            "Package 'nvidia-current-updates' is not installed, so not removed\n",
            "Package 'nvidia-libopencl1' is not installed, so not removed\n",
            "Package 'nvidia' is not installed, so not removed\n",
            "Package 'nvidia-driver-410' is not installed, so not removed\n",
            "Package 'nvidia-387' is not installed, so not removed\n",
            "Package 'nvidia-387-updates' is not installed, so not removed\n",
            "Package 'nvidia-experimental-387' is not installed, so not removed\n",
            "Package 'nvidia-384-updates' is not installed, so not removed\n",
            "Package 'nvidia-experimental-384' is not installed, so not removed\n",
            "Package 'nvidia-381' is not installed, so not removed\n",
            "Package 'nvidia-381-updates' is not installed, so not removed\n",
            "Package 'nvidia-experimental-381' is not installed, so not removed\n",
            "Package 'nvidia-378' is not installed, so not removed\n",
            "Package 'nvidia-378-updates' is not installed, so not removed\n",
            "Package 'nvidia-experimental-378' is not installed, so not removed\n",
            "Package 'nvidia-375' is not installed, so not removed\n",
            "Package 'nvidia-375-updates' is not installed, so not removed\n",
            "Package 'nvidia-experimental-375' is not installed, so not removed\n",
            "Package 'nvidia-367' is not installed, so not removed\n",
            "Package 'nvidia-367-updates' is not installed, so not removed\n",
            "Package 'nvidia-experimental-367' is not installed, so not removed\n",
            "Package 'nvidia-364' is not installed, so not removed\n",
            "Package 'nvidia-364-updates' is not installed, so not removed\n",
            "Package 'nvidia-experimental-364' is not installed, so not removed\n",
            "Package 'nvidia-361' is not installed, so not removed\n",
            "Package 'nvidia-361-updates' is not installed, so not removed\n",
            "Package 'nvidia-experimental-361' is not installed, so not removed\n",
            "Package 'nvidia-358' is not installed, so not removed\n",
            "Package 'nvidia-358-updates' is not installed, so not removed\n",
            "Package 'nvidia-experimental-358' is not installed, so not removed\n",
            "Package 'nvidia-355' is not installed, so not removed\n",
            "Package 'nvidia-355-updates' is not installed, so not removed\n",
            "Package 'nvidia-experimental-355' is not installed, so not removed\n",
            "Package 'nvidia-352' is not installed, so not removed\n",
            "Package 'nvidia-352-updates' is not installed, so not removed\n",
            "Package 'nvidia-experimental-352' is not installed, so not removed\n",
            "Package 'nvidia-349' is not installed, so not removed\n",
            "Package 'nvidia-349-updates' is not installed, so not removed\n",
            "Package 'nvidia-experimental-349' is not installed, so not removed\n",
            "Package 'nvidia-346' is not installed, so not removed\n",
            "Package 'nvidia-346-updates' is not installed, so not removed\n",
            "Package 'nvidia-experimental-346' is not installed, so not removed\n",
            "Package 'nvidia-343' is not installed, so not removed\n",
            "Package 'nvidia-343-updates' is not installed, so not removed\n",
            "Package 'nvidia-experimental-343' is not installed, so not removed\n",
            "Package 'nvidia-340-updates' is not installed, so not removed\n",
            "Package 'nvidia-experimental-340' is not installed, so not removed\n",
            "Package 'nvidia-337' is not installed, so not removed\n",
            "Package 'nvidia-337-updates' is not installed, so not removed\n",
            "Package 'nvidia-experimental-337' is not installed, so not removed\n",
            "Package 'nvidia-334' is not installed, so not removed\n",
            "Package 'nvidia-334-updates' is not installed, so not removed\n",
            "Package 'nvidia-experimental-334' is not installed, so not removed\n",
            "Package 'nvidia-331' is not installed, so not removed\n",
            "Package 'nvidia-331-updates' is not installed, so not removed\n",
            "Package 'nvidia-experimental-331' is not installed, so not removed\n",
            "Package 'nvidia-325' is not installed, so not removed\n",
            "Package 'nvidia-325-updates' is not installed, so not removed\n",
            "Package 'nvidia-experimental-325' is not installed, so not removed\n",
            "Package 'nvidia-319' is not installed, so not removed\n",
            "Package 'nvidia-319-updates' is not installed, so not removed\n",
            "Package 'nvidia-experimental-319' is not installed, so not removed\n",
            "Package 'nvidia-313' is not installed, so not removed\n",
            "Package 'nvidia-313-updates' is not installed, so not removed\n",
            "Package 'nvidia-experimental-313' is not installed, so not removed\n",
            "Package 'nvidia-310' is not installed, so not removed\n",
            "Package 'nvidia-310-updates' is not installed, so not removed\n",
            "Package 'nvidia-experimental-310' is not installed, so not removed\n",
            "Package 'nvidia-304' is not installed, so not removed\n",
            "Package 'nvidia-304-updates' is not installed, so not removed\n",
            "Package 'nvidia-experimental-304' is not installed, so not removed\n",
            "Package 'nvidia-legacy-390xx-opencl-icd' is not installed, so not removed\n",
            "Package 'nvidia-legacy-390xx-smi' is not installed, so not removed\n",
            "Package 'nvidia-cuda-doc' is not installed, so not removed\n",
            "Package 'nvidia-fs-prebuilt' is not installed, so not removed\n",
            "Package 'nvidia-kernel-common-396' is not installed, so not removed\n",
            "Package 'nvidia-kernel-dkms' is not installed, so not removed\n",
            "Package 'nvidia-container-runtime-hook' is not installed, so not removed\n",
            "Package 'nvidia-docker' is not installed, so not removed\n",
            "Package 'nvidia-firmware-535-server-535.104.05' is not installed, so not removed\n",
            "Package 'nvidia-firmware-535-server-535.98' is not installed, so not removed\n",
            "Note, selecting 'libnvidia-egl-gbm1' for glob 'libnvidia-*'\n",
            "Note, selecting 'libnvidia-compute-440-server' for glob 'libnvidia-*'\n",
            "Note, selecting 'libnvidia-common-390' for glob 'libnvidia-*'\n",
            "Note, selecting 'libnvidia-common-418' for glob 'libnvidia-*'\n",
            "Note, selecting 'libnvidia-common-430' for glob 'libnvidia-*'\n",
            "Note, selecting 'libnvidia-common-435' for glob 'libnvidia-*'\n",
            "Note, selecting 'libnvidia-common-440' for glob 'libnvidia-*'\n",
            "Note, selecting 'libnvidia-common-450' for glob 'libnvidia-*'\n",
            "Note, selecting 'libnvidia-common-455' for glob 'libnvidia-*'\n",
            "Note, selecting 'libnvidia-common-460' for glob 'libnvidia-*'\n",
            "Note, selecting 'libnvidia-common-465' for glob 'libnvidia-*'\n",
            "Note, selecting 'libnvidia-common-470' for glob 'libnvidia-*'\n",
            "Note, selecting 'libnvidia-common-495' for glob 'libnvidia-*'\n",
            "Note, selecting 'libnvidia-gl-510-server' for glob 'libnvidia-*'\n",
            "Note, selecting 'libnvidia-common-510' for glob 'libnvidia-*'\n",
            "Note, selecting 'libnvidia-common-515' for glob 'libnvidia-*'\n",
            "Note, selecting 'libnvidia-common-520' for glob 'libnvidia-*'\n",
            "Note, selecting 'libnvidia-fbc1-390' for glob 'libnvidia-*'\n",
            "Note, selecting 'libnvidia-common-525' for glob 'libnvidia-*'\n",
            "Note, selecting 'libnvidia-common-530' for glob 'libnvidia-*'\n",
            "Note, selecting 'libnvidia-common-535' for glob 'libnvidia-*'\n",
            "Note, selecting 'libnvidia-fbc1-418' for glob 'libnvidia-*'\n",
            "Note, selecting 'libnvidia-fbc1-430' for glob 'libnvidia-*'\n",
            "Note, selecting 'libnvidia-fbc1-435' for glob 'libnvidia-*'\n",
            "Note, selecting 'libnvidia-fbc1-440' for glob 'libnvidia-*'\n",
            "Note, selecting 'libnvidia-fbc1-450' for glob 'libnvidia-*'\n",
            "Note, selecting 'libnvidia-fbc1-455' for glob 'libnvidia-*'\n",
            "Note, selecting 'libnvidia-fbc1-460' for glob 'libnvidia-*'\n",
            "Note, selecting 'libnvidia-fbc1-465' for glob 'libnvidia-*'\n",
            "Note, selecting 'libnvidia-fbc1-470' for glob 'libnvidia-*'\n",
            "Note, selecting 'libnvidia-fbc1-495' for glob 'libnvidia-*'\n",
            "Note, selecting 'libnvidia-fbc1-510' for glob 'libnvidia-*'\n",
            "Note, selecting 'libnvidia-fbc1-515' for glob 'libnvidia-*'\n",
            "Note, selecting 'libnvidia-fbc1-520' for glob 'libnvidia-*'\n",
            "Note, selecting 'libnvidia-fbc1-525' for glob 'libnvidia-*'\n",
            "Note, selecting 'libnvidia-fbc1-530' for glob 'libnvidia-*'\n",
            "Note, selecting 'libnvidia-fbc1-535' for glob 'libnvidia-*'\n",
            "Note, selecting 'libnvidia-extra-525-server' for glob 'libnvidia-*'\n",
            "Note, selecting 'libnvidia-gl-390' for glob 'libnvidia-*'\n",
            "Note, selecting 'libnvidia-gl-410' for glob 'libnvidia-*'\n",
            "Note, selecting 'libnvidia-gl-418' for glob 'libnvidia-*'\n",
            "Note, selecting 'libnvidia-gl-430' for glob 'libnvidia-*'\n",
            "Note, selecting 'libnvidia-gl-435' for glob 'libnvidia-*'\n",
            "Note, selecting 'libnvidia-gl-440' for glob 'libnvidia-*'\n",
            "Note, selecting 'libnvidia-gl-450' for glob 'libnvidia-*'\n",
            "Note, selecting 'libnvidia-gl-455' for glob 'libnvidia-*'\n",
            "Note, selecting 'libnvidia-gl-460' for glob 'libnvidia-*'\n",
            "Note, selecting 'libnvidia-gl-465' for glob 'libnvidia-*'\n",
            "Note, selecting 'libnvidia-gl-470' for glob 'libnvidia-*'\n",
            "Note, selecting 'libnvidia-gl-495' for glob 'libnvidia-*'\n",
            "Note, selecting 'libnvidia-gl-510' for glob 'libnvidia-*'\n",
            "Note, selecting 'libnvidia-gl-515' for glob 'libnvidia-*'\n",
            "Note, selecting 'libnvidia-gl-520' for glob 'libnvidia-*'\n",
            "Note, selecting 'libnvidia-gl-525' for glob 'libnvidia-*'\n",
            "Note, selecting 'libnvidia-gl-530' for glob 'libnvidia-*'\n",
            "Note, selecting 'libnvidia-gl-535' for glob 'libnvidia-*'\n",
            "Note, selecting 'libnvidia-cfg1-any' for glob 'libnvidia-*'\n",
            "Note, selecting 'libnvidia-common-450-server' for glob 'libnvidia-*'\n",
            "Note, selecting 'libnvidia-tesla-cuda1' for glob 'libnvidia-*'\n",
            "Note, selecting 'libnvidia-common-470-server' for glob 'libnvidia-*'\n",
            "Note, selecting 'libnvidia-gl-440-server' for glob 'libnvidia-*'\n",
            "Note, selecting 'libnvidia-extra-440' for glob 'libnvidia-*'\n",
            "Note, selecting 'libnvidia-extra-450' for glob 'libnvidia-*'\n",
            "Note, selecting 'libnvidia-extra-455' for glob 'libnvidia-*'\n",
            "Note, selecting 'libnvidia-extra-460' for glob 'libnvidia-*'\n",
            "Note, selecting 'libnvidia-extra-465' for glob 'libnvidia-*'\n",
            "Note, selecting 'libnvidia-extra-470' for glob 'libnvidia-*'\n",
            "Note, selecting 'libnvidia-extra-495' for glob 'libnvidia-*'\n",
            "Note, selecting 'libnvidia-gl-460-server' for glob 'libnvidia-*'\n",
            "Note, selecting 'libnvidia-extra-510' for glob 'libnvidia-*'\n",
            "Note, selecting 'libnvidia-extra-515' for glob 'libnvidia-*'\n",
            "Note, selecting 'libnvidia-extra-520' for glob 'libnvidia-*'\n",
            "Note, selecting 'libnvidia-extra-525' for glob 'libnvidia-*'\n",
            "Note, selecting 'libnvidia-extra-530' for glob 'libnvidia-*'\n",
            "Note, selecting 'libnvidia-extra-535' for glob 'libnvidia-*'\n",
            "Note, selecting 'libnvidia-legacy-390xx-egl-wayland1' for glob 'libnvidia-*'\n",
            "Note, selecting 'libnvidia-common-510-server' for glob 'libnvidia-*'\n",
            "Note, selecting 'libnvidia-fbc1' for glob 'libnvidia-*'\n",
            "Note, selecting 'libnvidia-encode-515-server' for glob 'libnvidia-*'\n",
            "Note, selecting 'libnvidia-encode-535-server' for glob 'libnvidia-*'\n",
            "Note, selecting 'libnvidia-container1' for glob 'libnvidia-*'\n",
            "Note, selecting 'libnvidia-common-440-server' for glob 'libnvidia-*'\n",
            "Note, selecting 'libnvidia-container1-dbg' for glob 'libnvidia-*'\n",
            "Note, selecting 'libnvidia-common-460-server' for glob 'libnvidia-*'\n",
            "Note, selecting 'libnvidia-encode-390' for glob 'libnvidia-*'\n",
            "Note, selecting 'libnvidia-container-dev' for glob 'libnvidia-*'\n",
            "Note, selecting 'libnvidia-encode-418' for glob 'libnvidia-*'\n",
            "Note, selecting 'libnvidia-encode-430' for glob 'libnvidia-*'\n",
            "Note, selecting 'libnvidia-encode-435' for glob 'libnvidia-*'\n",
            "Note, selecting 'libnvidia-encode-440' for glob 'libnvidia-*'\n",
            "Note, selecting 'libnvidia-encode-450' for glob 'libnvidia-*'\n",
            "Note, selecting 'libnvidia-encode-455' for glob 'libnvidia-*'\n",
            "Note, selecting 'libnvidia-encode-460' for glob 'libnvidia-*'\n",
            "Note, selecting 'libnvidia-encode-465' for glob 'libnvidia-*'\n",
            "Note, selecting 'libnvidia-encode-470' for glob 'libnvidia-*'\n",
            "Note, selecting 'libnvidia-encode-495' for glob 'libnvidia-*'\n",
            "Note, selecting 'libnvidia-encode-510' for glob 'libnvidia-*'\n",
            "Note, selecting 'libnvidia-encode-515' for glob 'libnvidia-*'\n",
            "Note, selecting 'libnvidia-encode-520' for glob 'libnvidia-*'\n",
            "Note, selecting 'libnvidia-encode-525' for glob 'libnvidia-*'\n",
            "Note, selecting 'libnvidia-encode-530' for glob 'libnvidia-*'\n",
            "Note, selecting 'libnvidia-encode-535' for glob 'libnvidia-*'\n",
            "Note, selecting 'libnvidia-gl-450-server' for glob 'libnvidia-*'\n",
            "Note, selecting 'libnvidia-gl-470-server' for glob 'libnvidia-*'\n",
            "Note, selecting 'libnvidia-encode' for glob 'libnvidia-*'\n",
            "Note, selecting 'libnvidia-compute-525-server' for glob 'libnvidia-*'\n",
            "Note, selecting 'libnvidia-cfg1-510-server' for glob 'libnvidia-*'\n",
            "Note, selecting 'libnvidia-ifr1-390' for glob 'libnvidia-*'\n",
            "Note, selecting 'libnvidia-ifr1-418' for glob 'libnvidia-*'\n",
            "Note, selecting 'libnvidia-ifr1-430' for glob 'libnvidia-*'\n",
            "Note, selecting 'libnvidia-ifr1-435' for glob 'libnvidia-*'\n",
            "Note, selecting 'libnvidia-ifr1-440' for glob 'libnvidia-*'\n",
            "Note, selecting 'libnvidia-ifr1-450' for glob 'libnvidia-*'\n",
            "Note, selecting 'libnvidia-ifr1-455' for glob 'libnvidia-*'\n",
            "Note, selecting 'libnvidia-ifr1-460' for glob 'libnvidia-*'\n",
            "Note, selecting 'libnvidia-ifr1-465' for glob 'libnvidia-*'\n",
            "Note, selecting 'libnvidia-ifr1-470' for glob 'libnvidia-*'\n",
            "Note, selecting 'libnvidia-ifr1-418-server' for glob 'libnvidia-*'\n",
            "Note, selecting 'libnvidia-encode-418-server' for glob 'libnvidia-*'\n",
            "Note, selecting 'libnvidia-encode-525-server' for glob 'libnvidia-*'\n",
            "Note, selecting 'libnvidia-cfg1-440-server' for glob 'libnvidia-*'\n",
            "Note, selecting 'libnvidia-cfg1-460-server' for glob 'libnvidia-*'\n",
            "Note, selecting 'libnvidia-compute-495-server' for glob 'libnvidia-*'\n",
            "Note, selecting 'libnvidia-decode-450-server' for glob 'libnvidia-*'\n",
            "Note, selecting 'libnvidia-compute-515-server' for glob 'libnvidia-*'\n",
            "Note, selecting 'libnvidia-decode-470-server' for glob 'libnvidia-*'\n",
            "Note, selecting 'libnvidia-compute-535-server' for glob 'libnvidia-*'\n",
            "Note, selecting 'libnvidia-nscq-450' for glob 'libnvidia-*'\n",
            "Note, selecting 'libnvidia-nscq-460' for glob 'libnvidia-*'\n",
            "Note, selecting 'libnvidia-nscq-470' for glob 'libnvidia-*'\n",
            "Note, selecting 'libnvidia-nscq-510' for glob 'libnvidia-*'\n",
            "Note, selecting 'libnvidia-nscq-515' for glob 'libnvidia-*'\n",
            "Note, selecting 'libnvidia-nscq-520' for glob 'libnvidia-*'\n",
            "Note, selecting 'libnvidia-nscq-525' for glob 'libnvidia-*'\n",
            "Note, selecting 'libnvidia-nscq-530' for glob 'libnvidia-*'\n",
            "Note, selecting 'libnvidia-nscq-535' for glob 'libnvidia-*'\n",
            "Note, selecting 'libnvidia-decode-510-server' for glob 'libnvidia-*'\n",
            "Note, selecting 'libnvidia-decode-390' for glob 'libnvidia-*'\n",
            "Note, selecting 'libnvidia-fbc1-450-server' for glob 'libnvidia-*'\n",
            "Note, selecting 'libnvidia-gl-515-server' for glob 'libnvidia-*'\n",
            "Note, selecting 'libnvidia-decode-418' for glob 'libnvidia-*'\n",
            "Note, selecting 'libnvidia-decode-430' for glob 'libnvidia-*'\n",
            "Note, selecting 'libnvidia-decode-435' for glob 'libnvidia-*'\n",
            "Note, selecting 'libnvidia-decode-440' for glob 'libnvidia-*'\n",
            "Note, selecting 'libnvidia-decode-450' for glob 'libnvidia-*'\n",
            "Note, selecting 'libnvidia-decode-455' for glob 'libnvidia-*'\n",
            "Note, selecting 'libnvidia-decode-460' for glob 'libnvidia-*'\n",
            "Note, selecting 'libnvidia-decode-465' for glob 'libnvidia-*'\n",
            "Note, selecting 'libnvidia-decode-470' for glob 'libnvidia-*'\n",
            "Note, selecting 'libnvidia-decode-495' for glob 'libnvidia-*'\n",
            "Note, selecting 'libnvidia-cfg1-450-server' for glob 'libnvidia-*'\n",
            "Note, selecting 'libnvidia-decode-510' for glob 'libnvidia-*'\n",
            "Note, selecting 'libnvidia-decode-515' for glob 'libnvidia-*'\n",
            "Note, selecting 'libnvidia-decode-520' for glob 'libnvidia-*'\n",
            "Note, selecting 'libnvidia-decode-525' for glob 'libnvidia-*'\n",
            "Note, selecting 'libnvidia-decode-530' for glob 'libnvidia-*'\n",
            "Note, selecting 'libnvidia-decode-535' for glob 'libnvidia-*'\n",
            "Note, selecting 'libnvidia-fbc1-470-server' for glob 'libnvidia-*'\n",
            "Note, selecting 'libnvidia-gl-535-server' for glob 'libnvidia-*'\n",
            "Note, selecting 'libnvidia-cfg1-470-server' for glob 'libnvidia-*'\n",
            "Note, selecting 'libnvidia-egl-wayland1' for glob 'libnvidia-*'\n",
            "Note, selecting 'libnvidia-ml1' for glob 'libnvidia-*'\n",
            "Note, selecting 'libnvidia-encode1' for glob 'libnvidia-*'\n",
            "Note, selecting 'libnvidia-decode-440-server' for glob 'libnvidia-*'\n",
            "Note, selecting 'libnvidia-compute-418-server' for glob 'libnvidia-*'\n",
            "Note, selecting 'libnvidia-decode-460-server' for glob 'libnvidia-*'\n",
            "Note, selecting 'libnvidia-fbc1-510-server' for glob 'libnvidia-*'\n",
            "Note, selecting 'libnvidia-extra' for glob 'libnvidia-*'\n",
            "Note, selecting 'libnvidia-common-515-server' for glob 'libnvidia-*'\n",
            "Note, selecting 'libnvidia-extra-450-server' for glob 'libnvidia-*'\n",
            "Note, selecting 'libnvidia-common-535-server' for glob 'libnvidia-*'\n",
            "Note, selecting 'libnvidia-fbc1-440-server' for glob 'libnvidia-*'\n",
            "Note, selecting 'libnvidia-extra-470-server' for glob 'libnvidia-*'\n",
            "Note, selecting 'libnvidia-gl-418-server' for glob 'libnvidia-*'\n",
            "Note, selecting 'libnvidia-fbc1-460-server' for glob 'libnvidia-*'\n",
            "Note, selecting 'libnvidia-gl-525-server' for glob 'libnvidia-*'\n",
            "Note, selecting 'libnvidia-extra-510-server' for glob 'libnvidia-*'\n",
            "Note, selecting 'libnvidia-common-418-server' for glob 'libnvidia-*'\n",
            "Note, selecting 'libnvidia-extra-440-server' for glob 'libnvidia-*'\n",
            "Note, selecting 'libnvidia-cfg1-515-server' for glob 'libnvidia-*'\n",
            "Note, selecting 'libnvidia-common-525-server' for glob 'libnvidia-*'\n",
            "Note, selecting 'libnvidia-ml-dev' for glob 'libnvidia-*'\n",
            "Note, selecting 'libnvidia-extra-460-server' for glob 'libnvidia-*'\n",
            "Note, selecting 'libnvidia-cfg1-535-server' for glob 'libnvidia-*'\n",
            "Note, selecting 'libnvidia-nscq' for glob 'libnvidia-*'\n",
            "Note, selecting 'libnvidia-container-tools' for glob 'libnvidia-*'\n",
            "Note, selecting 'libnvidia-ifr1' for glob 'libnvidia-*'\n",
            "Note, selecting 'libnvidia-cfg1-418-server' for glob 'libnvidia-*'\n",
            "Note, selecting 'libnvidia-cfg1-525-server' for glob 'libnvidia-*'\n",
            "Note, selecting 'libnvidia-ml.so.1' for glob 'libnvidia-*'\n",
            "Note, selecting 'libnvidia-compute-510-server' for glob 'libnvidia-*'\n",
            "Note, selecting 'libnvidia-encode-450-server' for glob 'libnvidia-*'\n",
            "Note, selecting 'libnvidia-encode-470-server' for glob 'libnvidia-*'\n",
            "Note, selecting 'libnvidia-decode-515-server' for glob 'libnvidia-*'\n",
            "Note, selecting 'libnvidia-decode-535-server' for glob 'libnvidia-*'\n",
            "Note, selecting 'libnvidia-encode-510-server' for glob 'libnvidia-*'\n",
            "Note, selecting 'libnvidia-gl' for glob 'libnvidia-*'\n",
            "Note, selecting 'libnvidia-cfg1-390' for glob 'libnvidia-*'\n",
            "Note, selecting 'libnvidia-egl-wayland-dev' for glob 'libnvidia-*'\n",
            "Note, selecting 'libnvidia-cfg1-418' for glob 'libnvidia-*'\n",
            "Note, selecting 'libnvidia-cfg1-430' for glob 'libnvidia-*'\n",
            "Note, selecting 'libnvidia-cfg1-435' for glob 'libnvidia-*'\n",
            "Note, selecting 'libnvidia-cfg1-440' for glob 'libnvidia-*'\n",
            "Note, selecting 'libnvidia-cfg1-450' for glob 'libnvidia-*'\n",
            "Note, selecting 'libnvidia-cfg1-455' for glob 'libnvidia-*'\n",
            "Note, selecting 'libnvidia-cfg1-460' for glob 'libnvidia-*'\n",
            "Note, selecting 'libnvidia-cfg1-465' for glob 'libnvidia-*'\n",
            "Note, selecting 'libnvidia-cfg1-470' for glob 'libnvidia-*'\n",
            "Note, selecting 'libnvidia-cfg1-495' for glob 'libnvidia-*'\n",
            "Note, selecting 'libnvidia-compute-460-server' for glob 'libnvidia-*'\n",
            "Note, selecting 'libnvidia-cfg1-510' for glob 'libnvidia-*'\n",
            "Note, selecting 'libnvidia-cfg1-515' for glob 'libnvidia-*'\n",
            "Note, selecting 'libnvidia-cfg1-520' for glob 'libnvidia-*'\n",
            "Note, selecting 'libnvidia-cfg1-525' for glob 'libnvidia-*'\n",
            "Note, selecting 'libnvidia-cfg1-530' for glob 'libnvidia-*'\n",
            "Note, selecting 'libnvidia-cfg1-535' for glob 'libnvidia-*'\n",
            "Note, selecting 'libnvidia-ifr1-440-server' for glob 'libnvidia-*'\n",
            "Note, selecting 'libnvidia-fbc1-515-server' for glob 'libnvidia-*'\n",
            "Note, selecting 'libnvidia-ifr1-460-server' for glob 'libnvidia-*'\n",
            "Note, selecting 'libnvidia-fbc1-535-server' for glob 'libnvidia-*'\n",
            "Note, selecting 'libnvidia-encode-440-server' for glob 'libnvidia-*'\n",
            "Note, selecting 'libnvidia-compute-390' for glob 'libnvidia-*'\n",
            "Note, selecting 'libnvidia-compute-418' for glob 'libnvidia-*'\n",
            "Note, selecting 'libnvidia-compute-430' for glob 'libnvidia-*'\n",
            "Note, selecting 'libnvidia-compute-435' for glob 'libnvidia-*'\n",
            "Note, selecting 'libnvidia-compute-440' for glob 'libnvidia-*'\n",
            "Note, selecting 'libnvidia-compute-450' for glob 'libnvidia-*'\n",
            "Note, selecting 'libnvidia-compute-455' for glob 'libnvidia-*'\n",
            "Note, selecting 'libnvidia-compute-460' for glob 'libnvidia-*'\n",
            "Note, selecting 'libnvidia-compute-465' for glob 'libnvidia-*'\n",
            "Note, selecting 'libnvidia-compute-470' for glob 'libnvidia-*'\n",
            "Note, selecting 'libnvidia-compute-495' for glob 'libnvidia-*'\n",
            "Note, selecting 'libnvidia-encode-460-server' for glob 'libnvidia-*'\n",
            "Note, selecting 'libnvidia-compute-510' for glob 'libnvidia-*'\n",
            "Note, selecting 'libnvidia-compute-515' for glob 'libnvidia-*'\n",
            "Note, selecting 'libnvidia-compute-520' for glob 'libnvidia-*'\n",
            "Note, selecting 'libnvidia-compute-525' for glob 'libnvidia-*'\n",
            "Note, selecting 'libnvidia-compute-530' for glob 'libnvidia-*'\n",
            "Note, selecting 'libnvidia-compute-535' for glob 'libnvidia-*'\n",
            "Note, selecting 'libnvidia-decode-418-server' for glob 'libnvidia-*'\n",
            "Note, selecting 'libnvidia-decode-525-server' for glob 'libnvidia-*'\n",
            "Note, selecting 'libnvidia-decode' for glob 'libnvidia-*'\n",
            "Note, selecting 'libnvidia-compute-450-server' for glob 'libnvidia-*'\n",
            "Note, selecting 'libnvidia-compute' for glob 'libnvidia-*'\n",
            "Note, selecting 'libnvidia-compute-470-server' for glob 'libnvidia-*'\n",
            "Note, selecting 'libnvidia-extra-515-server' for glob 'libnvidia-*'\n",
            "Note, selecting 'libnvidia-ifr1-450-server' for glob 'libnvidia-*'\n",
            "Note, selecting 'libnvidia-extra-535-server' for glob 'libnvidia-*'\n",
            "Note, selecting 'libnvidia-fbc1-418-server' for glob 'libnvidia-*'\n",
            "Note, selecting 'libnvidia-fbc1-525-server' for glob 'libnvidia-*'\n",
            "Note, selecting 'libnvidia-ifr1-470-server' for glob 'libnvidia-*'\n",
            "Note, selecting 'libnvidia-common' for glob 'libnvidia-*'\n",
            "Package 'libnvidia-gl-410' is not installed, so not removed\n",
            "Package 'libnvidia-legacy-390xx-egl-wayland1' is not installed, so not removed\n",
            "Package 'libnvidia-encode1' is not installed, so not removed\n",
            "Package 'libnvidia-tesla-cuda1' is not installed, so not removed\n",
            "Package 'libnvidia-compute-495-server' is not installed, so not removed\n",
            "Package 'libnvidia-egl-wayland-dev' is not installed, so not removed\n",
            "Package 'libnvidia-egl-wayland1' is not installed, so not removed\n",
            "Package 'nvidia-prime' is not installed, so not removed\n",
            "Package 'libnvidia-cfg1-418' is not installed, so not removed\n",
            "Package 'libnvidia-cfg1-435' is not installed, so not removed\n",
            "Package 'libnvidia-cfg1-440' is not installed, so not removed\n",
            "Package 'libnvidia-cfg1-450' is not installed, so not removed\n",
            "Package 'libnvidia-cfg1-455' is not installed, so not removed\n",
            "Package 'libnvidia-common-418' is not installed, so not removed\n",
            "Package 'libnvidia-common-435' is not installed, so not removed\n",
            "Package 'libnvidia-common-440' is not installed, so not removed\n",
            "Package 'libnvidia-common-450' is not installed, so not removed\n",
            "Package 'libnvidia-common-455' is not installed, so not removed\n",
            "Package 'libnvidia-compute-418' is not installed, so not removed\n",
            "Package 'libnvidia-compute-435' is not installed, so not removed\n",
            "Package 'libnvidia-compute-440' is not installed, so not removed\n",
            "Package 'libnvidia-compute-450' is not installed, so not removed\n",
            "Package 'libnvidia-compute-455' is not installed, so not removed\n",
            "Package 'libnvidia-decode-418' is not installed, so not removed\n",
            "Package 'libnvidia-decode-435' is not installed, so not removed\n",
            "Package 'libnvidia-decode-440' is not installed, so not removed\n",
            "Package 'libnvidia-decode-450' is not installed, so not removed\n",
            "Package 'libnvidia-decode-455' is not installed, so not removed\n",
            "Package 'libnvidia-encode-418' is not installed, so not removed\n",
            "Package 'libnvidia-encode-435' is not installed, so not removed\n",
            "Package 'libnvidia-encode-440' is not installed, so not removed\n",
            "Package 'libnvidia-encode-450' is not installed, so not removed\n",
            "Package 'libnvidia-encode-455' is not installed, so not removed\n",
            "Package 'libnvidia-extra-440' is not installed, so not removed\n",
            "Package 'libnvidia-extra-450' is not installed, so not removed\n",
            "Package 'libnvidia-extra-455' is not installed, so not removed\n",
            "Package 'libnvidia-fbc1-418' is not installed, so not removed\n",
            "Package 'libnvidia-fbc1-435' is not installed, so not removed\n",
            "Package 'libnvidia-fbc1-440' is not installed, so not removed\n",
            "Package 'libnvidia-fbc1-450' is not installed, so not removed\n",
            "Package 'libnvidia-fbc1-455' is not installed, so not removed\n",
            "Package 'libnvidia-gl-418' is not installed, so not removed\n",
            "Package 'libnvidia-gl-435' is not installed, so not removed\n",
            "Package 'libnvidia-gl-440' is not installed, so not removed\n",
            "Package 'libnvidia-gl-450' is not installed, so not removed\n",
            "Package 'libnvidia-gl-455' is not installed, so not removed\n",
            "Package 'libnvidia-ifr1-418' is not installed, so not removed\n",
            "Package 'libnvidia-ifr1-430' is not installed, so not removed\n",
            "Package 'libnvidia-ifr1-435' is not installed, so not removed\n",
            "Package 'libnvidia-ifr1-440' is not installed, so not removed\n",
            "Package 'libnvidia-ifr1-450' is not installed, so not removed\n",
            "Package 'libnvidia-ifr1-455' is not installed, so not removed\n",
            "Package 'nvidia-340' is not installed, so not removed\n",
            "Package 'nvidia-340-dev' is not installed, so not removed\n",
            "Package 'nvidia-340-uvm' is not installed, so not removed\n",
            "Package 'nvidia-compute-utils-418' is not installed, so not removed\n",
            "Package 'nvidia-compute-utils-435' is not installed, so not removed\n",
            "Package 'nvidia-compute-utils-440' is not installed, so not removed\n",
            "Package 'nvidia-compute-utils-450' is not installed, so not removed\n",
            "Package 'nvidia-compute-utils-455' is not installed, so not removed\n",
            "Package 'nvidia-dkms-418' is not installed, so not removed\n",
            "Package 'nvidia-dkms-435' is not installed, so not removed\n",
            "Package 'nvidia-dkms-440' is not installed, so not removed\n",
            "Package 'nvidia-dkms-450' is not installed, so not removed\n",
            "Package 'nvidia-dkms-455' is not installed, so not removed\n",
            "Package 'nvidia-driver-418' is not installed, so not removed\n",
            "Package 'nvidia-driver-435' is not installed, so not removed\n",
            "Package 'nvidia-driver-440' is not installed, so not removed\n",
            "Package 'nvidia-driver-450' is not installed, so not removed\n",
            "Package 'nvidia-driver-455' is not installed, so not removed\n",
            "Package 'nvidia-headless-418' is not installed, so not removed\n",
            "Package 'nvidia-headless-435' is not installed, so not removed\n",
            "Package 'nvidia-headless-440' is not installed, so not removed\n",
            "Package 'nvidia-headless-450' is not installed, so not removed\n",
            "Package 'nvidia-headless-455' is not installed, so not removed\n",
            "Package 'nvidia-headless-no-dkms-418' is not installed, so not removed\n",
            "Package 'nvidia-headless-no-dkms-435' is not installed, so not removed\n",
            "Package 'nvidia-headless-no-dkms-440' is not installed, so not removed\n",
            "Package 'nvidia-headless-no-dkms-450' is not installed, so not removed\n",
            "Package 'nvidia-headless-no-dkms-455' is not installed, so not removed\n",
            "Package 'nvidia-kernel-common-418' is not installed, so not removed\n",
            "Package 'nvidia-kernel-common-435' is not installed, so not removed\n",
            "Package 'nvidia-kernel-common-440' is not installed, so not removed\n",
            "Package 'nvidia-kernel-common-450' is not installed, so not removed\n",
            "Package 'nvidia-kernel-common-455' is not installed, so not removed\n",
            "Package 'nvidia-kernel-source-418' is not installed, so not removed\n",
            "Package 'nvidia-kernel-source-435' is not installed, so not removed\n",
            "Package 'nvidia-kernel-source-440' is not installed, so not removed\n",
            "Package 'nvidia-kernel-source-450' is not installed, so not removed\n",
            "Package 'nvidia-kernel-source-455' is not installed, so not removed\n",
            "Package 'nvidia-utils-418' is not installed, so not removed\n",
            "Package 'nvidia-utils-435' is not installed, so not removed\n",
            "Package 'nvidia-utils-440' is not installed, so not removed\n",
            "Package 'nvidia-utils-450' is not installed, so not removed\n",
            "Package 'nvidia-utils-455' is not installed, so not removed\n",
            "Package 'libnvidia-egl-gbm1' is not installed, so not removed\n",
            "Package 'libnvidia-ml-dev' is not installed, so not removed\n",
            "Package 'nvidia-cg-dev' is not installed, so not removed\n",
            "Package 'nvidia-cg-doc' is not installed, so not removed\n",
            "Package 'nvidia-cg-toolkit' is not installed, so not removed\n",
            "Package 'nvidia-cuda-dev' is not installed, so not removed\n",
            "Package 'nvidia-cuda-gdb' is not installed, so not removed\n",
            "Package 'nvidia-cuda-toolkit' is not installed, so not removed\n",
            "Package 'nvidia-cuda-toolkit-doc' is not installed, so not removed\n",
            "Package 'nvidia-cuda-toolkit-gcc' is not installed, so not removed\n",
            "Package 'nvidia-cudnn' is not installed, so not removed\n",
            "Package 'nvidia-libopencl1-340' is not installed, so not removed\n",
            "Package 'nvidia-opencl-icd-340' is not installed, so not removed\n",
            "Package 'nvidia-primus-vk-common' is not installed, so not removed\n",
            "Package 'nvidia-primus-vk-wrapper' is not installed, so not removed\n",
            "Package 'nvidia-profiler' is not installed, so not removed\n",
            "Package 'nvidia-visual-profiler' is not installed, so not removed\n",
            "Package 'libnvidia-cfg1-390' is not installed, so not removed\n",
            "Package 'libnvidia-cfg1-418-server' is not installed, so not removed\n",
            "Package 'libnvidia-cfg1-440-server' is not installed, so not removed\n",
            "Package 'libnvidia-cfg1-450-server' is not installed, so not removed\n",
            "Package 'libnvidia-cfg1-460' is not installed, so not removed\n",
            "Package 'libnvidia-cfg1-460-server' is not installed, so not removed\n",
            "Package 'libnvidia-cfg1-465' is not installed, so not removed\n",
            "Package 'libnvidia-cfg1-470' is not installed, so not removed\n",
            "Package 'libnvidia-cfg1-470-server' is not installed, so not removed\n",
            "Package 'libnvidia-cfg1-495' is not installed, so not removed\n",
            "Package 'libnvidia-cfg1-510' is not installed, so not removed\n",
            "Package 'libnvidia-cfg1-510-server' is not installed, so not removed\n",
            "Package 'libnvidia-cfg1-515' is not installed, so not removed\n",
            "Package 'libnvidia-cfg1-515-server' is not installed, so not removed\n",
            "Package 'libnvidia-cfg1-520' is not installed, so not removed\n",
            "Package 'libnvidia-cfg1-525-server' is not installed, so not removed\n",
            "Package 'libnvidia-cfg1-535-server' is not installed, so not removed\n",
            "Package 'libnvidia-common-390' is not installed, so not removed\n",
            "Package 'libnvidia-common-418-server' is not installed, so not removed\n",
            "Package 'libnvidia-common-440-server' is not installed, so not removed\n",
            "Package 'libnvidia-common-450-server' is not installed, so not removed\n",
            "Package 'libnvidia-common-460' is not installed, so not removed\n",
            "Package 'libnvidia-common-460-server' is not installed, so not removed\n",
            "Package 'libnvidia-common-465' is not installed, so not removed\n",
            "Package 'libnvidia-common-470' is not installed, so not removed\n",
            "Package 'libnvidia-common-470-server' is not installed, so not removed\n",
            "Package 'libnvidia-common-495' is not installed, so not removed\n",
            "Package 'libnvidia-common-510' is not installed, so not removed\n",
            "Package 'libnvidia-common-510-server' is not installed, so not removed\n",
            "Package 'libnvidia-common-515' is not installed, so not removed\n",
            "Package 'libnvidia-common-515-server' is not installed, so not removed\n",
            "Package 'libnvidia-common-520' is not installed, so not removed\n",
            "Package 'libnvidia-common-525-server' is not installed, so not removed\n",
            "Package 'libnvidia-common-535-server' is not installed, so not removed\n",
            "Package 'libnvidia-compute-390' is not installed, so not removed\n",
            "Package 'libnvidia-compute-418-server' is not installed, so not removed\n",
            "Package 'libnvidia-compute-440-server' is not installed, so not removed\n",
            "Package 'libnvidia-compute-450-server' is not installed, so not removed\n",
            "Package 'libnvidia-compute-460' is not installed, so not removed\n",
            "Package 'libnvidia-compute-460-server' is not installed, so not removed\n",
            "Package 'libnvidia-compute-465' is not installed, so not removed\n",
            "Package 'libnvidia-compute-470' is not installed, so not removed\n",
            "Package 'libnvidia-compute-470-server' is not installed, so not removed\n",
            "Package 'libnvidia-compute-495' is not installed, so not removed\n",
            "Package 'libnvidia-compute-510' is not installed, so not removed\n",
            "Package 'libnvidia-compute-510-server' is not installed, so not removed\n",
            "Package 'libnvidia-compute-515' is not installed, so not removed\n",
            "Package 'libnvidia-compute-515-server' is not installed, so not removed\n",
            "Package 'libnvidia-compute-520' is not installed, so not removed\n",
            "Package 'libnvidia-compute-525-server' is not installed, so not removed\n",
            "Package 'libnvidia-compute-535-server' is not installed, so not removed\n",
            "Package 'libnvidia-decode-390' is not installed, so not removed\n",
            "Package 'libnvidia-decode-418-server' is not installed, so not removed\n",
            "Package 'libnvidia-decode-440-server' is not installed, so not removed\n",
            "Package 'libnvidia-decode-450-server' is not installed, so not removed\n",
            "Package 'libnvidia-decode-460' is not installed, so not removed\n",
            "Package 'libnvidia-decode-460-server' is not installed, so not removed\n",
            "Package 'libnvidia-decode-465' is not installed, so not removed\n",
            "Package 'libnvidia-decode-470' is not installed, so not removed\n",
            "Package 'libnvidia-decode-470-server' is not installed, so not removed\n",
            "Package 'libnvidia-decode-495' is not installed, so not removed\n",
            "Package 'libnvidia-decode-510' is not installed, so not removed\n",
            "Package 'libnvidia-decode-510-server' is not installed, so not removed\n",
            "Package 'libnvidia-decode-515' is not installed, so not removed\n",
            "Package 'libnvidia-decode-515-server' is not installed, so not removed\n",
            "Package 'libnvidia-decode-520' is not installed, so not removed\n",
            "Package 'libnvidia-decode-525-server' is not installed, so not removed\n",
            "Package 'libnvidia-decode-535-server' is not installed, so not removed\n",
            "Package 'libnvidia-encode-390' is not installed, so not removed\n",
            "Package 'libnvidia-encode-418-server' is not installed, so not removed\n",
            "Package 'libnvidia-encode-440-server' is not installed, so not removed\n",
            "Package 'libnvidia-encode-450-server' is not installed, so not removed\n",
            "Package 'libnvidia-encode-460' is not installed, so not removed\n",
            "Package 'libnvidia-encode-460-server' is not installed, so not removed\n",
            "Package 'libnvidia-encode-465' is not installed, so not removed\n",
            "Package 'libnvidia-encode-470' is not installed, so not removed\n",
            "Package 'libnvidia-encode-470-server' is not installed, so not removed\n",
            "Package 'libnvidia-encode-495' is not installed, so not removed\n",
            "Package 'libnvidia-encode-510' is not installed, so not removed\n",
            "Package 'libnvidia-encode-510-server' is not installed, so not removed\n",
            "Package 'libnvidia-encode-515' is not installed, so not removed\n",
            "Package 'libnvidia-encode-515-server' is not installed, so not removed\n",
            "Package 'libnvidia-encode-520' is not installed, so not removed\n",
            "Package 'libnvidia-encode-525-server' is not installed, so not removed\n",
            "Package 'libnvidia-encode-535-server' is not installed, so not removed\n",
            "Package 'libnvidia-extra-440-server' is not installed, so not removed\n",
            "Package 'libnvidia-extra-450-server' is not installed, so not removed\n",
            "Package 'libnvidia-extra-460' is not installed, so not removed\n",
            "Package 'libnvidia-extra-460-server' is not installed, so not removed\n",
            "Package 'libnvidia-extra-465' is not installed, so not removed\n",
            "Package 'libnvidia-extra-470' is not installed, so not removed\n",
            "Package 'libnvidia-extra-470-server' is not installed, so not removed\n",
            "Package 'libnvidia-extra-495' is not installed, so not removed\n",
            "Package 'libnvidia-extra-510' is not installed, so not removed\n",
            "Package 'libnvidia-extra-510-server' is not installed, so not removed\n",
            "Package 'libnvidia-extra-515' is not installed, so not removed\n",
            "Package 'libnvidia-extra-515-server' is not installed, so not removed\n",
            "Package 'libnvidia-extra-520' is not installed, so not removed\n",
            "Package 'libnvidia-extra-525-server' is not installed, so not removed\n",
            "Package 'libnvidia-extra-535-server' is not installed, so not removed\n",
            "Package 'libnvidia-fbc1-390' is not installed, so not removed\n",
            "Package 'libnvidia-fbc1-418-server' is not installed, so not removed\n",
            "Package 'libnvidia-fbc1-440-server' is not installed, so not removed\n",
            "Package 'libnvidia-fbc1-450-server' is not installed, so not removed\n",
            "Package 'libnvidia-fbc1-460' is not installed, so not removed\n",
            "Package 'libnvidia-fbc1-460-server' is not installed, so not removed\n",
            "Package 'libnvidia-fbc1-465' is not installed, so not removed\n",
            "Package 'libnvidia-fbc1-470' is not installed, so not removed\n",
            "Package 'libnvidia-fbc1-470-server' is not installed, so not removed\n",
            "Package 'libnvidia-fbc1-495' is not installed, so not removed\n",
            "Package 'libnvidia-fbc1-510' is not installed, so not removed\n",
            "Package 'libnvidia-fbc1-510-server' is not installed, so not removed\n",
            "Package 'libnvidia-fbc1-515' is not installed, so not removed\n",
            "Package 'libnvidia-fbc1-515-server' is not installed, so not removed\n",
            "Package 'libnvidia-fbc1-520' is not installed, so not removed\n",
            "Package 'libnvidia-fbc1-525-server' is not installed, so not removed\n",
            "Package 'libnvidia-fbc1-535-server' is not installed, so not removed\n",
            "Package 'libnvidia-gl-390' is not installed, so not removed\n",
            "Package 'libnvidia-gl-418-server' is not installed, so not removed\n",
            "Package 'libnvidia-gl-440-server' is not installed, so not removed\n",
            "Package 'libnvidia-gl-450-server' is not installed, so not removed\n",
            "Package 'libnvidia-gl-460' is not installed, so not removed\n",
            "Package 'libnvidia-gl-460-server' is not installed, so not removed\n",
            "Package 'libnvidia-gl-465' is not installed, so not removed\n",
            "Package 'libnvidia-gl-470' is not installed, so not removed\n",
            "Package 'libnvidia-gl-470-server' is not installed, so not removed\n",
            "Package 'libnvidia-gl-495' is not installed, so not removed\n",
            "Package 'libnvidia-gl-510' is not installed, so not removed\n",
            "Package 'libnvidia-gl-510-server' is not installed, so not removed\n",
            "Package 'libnvidia-gl-515' is not installed, so not removed\n",
            "Package 'libnvidia-gl-515-server' is not installed, so not removed\n",
            "Package 'libnvidia-gl-520' is not installed, so not removed\n",
            "Package 'libnvidia-gl-525-server' is not installed, so not removed\n",
            "Package 'libnvidia-gl-535-server' is not installed, so not removed\n",
            "Package 'libnvidia-ifr1-390' is not installed, so not removed\n",
            "Package 'libnvidia-ifr1-418-server' is not installed, so not removed\n",
            "Package 'libnvidia-ifr1-440-server' is not installed, so not removed\n",
            "Package 'libnvidia-ifr1-450-server' is not installed, so not removed\n",
            "Package 'libnvidia-ifr1-460' is not installed, so not removed\n",
            "Package 'libnvidia-ifr1-460-server' is not installed, so not removed\n",
            "Package 'libnvidia-ifr1-465' is not installed, so not removed\n",
            "Package 'libnvidia-ifr1-470' is not installed, so not removed\n",
            "Package 'libnvidia-ifr1-470-server' is not installed, so not removed\n",
            "Package 'libnvidia-nscq-515' is not installed, so not removed\n",
            "Package 'nvidia-384' is not installed, so not removed\n",
            "Package 'nvidia-384-dev' is not installed, so not removed\n",
            "Package 'nvidia-compute-utils-390' is not installed, so not removed\n",
            "Package 'nvidia-compute-utils-418-server' is not installed, so not removed\n",
            "Package 'nvidia-compute-utils-440-server' is not installed, so not removed\n",
            "Package 'nvidia-compute-utils-450-server' is not installed, so not removed\n",
            "Package 'nvidia-compute-utils-460' is not installed, so not removed\n",
            "Package 'nvidia-compute-utils-460-server' is not installed, so not removed\n",
            "Package 'nvidia-compute-utils-465' is not installed, so not removed\n",
            "Package 'nvidia-compute-utils-470' is not installed, so not removed\n",
            "Package 'nvidia-compute-utils-470-server' is not installed, so not removed\n",
            "Package 'nvidia-compute-utils-495' is not installed, so not removed\n",
            "Package 'nvidia-compute-utils-510' is not installed, so not removed\n",
            "Package 'nvidia-compute-utils-510-server' is not installed, so not removed\n",
            "Package 'nvidia-compute-utils-515' is not installed, so not removed\n",
            "Package 'nvidia-compute-utils-515-server' is not installed, so not removed\n",
            "Package 'nvidia-compute-utils-520' is not installed, so not removed\n",
            "Package 'nvidia-compute-utils-525-server' is not installed, so not removed\n",
            "Package 'nvidia-compute-utils-535-server' is not installed, so not removed\n",
            "Package 'nvidia-dkms-390' is not installed, so not removed\n",
            "Package 'nvidia-dkms-418-server' is not installed, so not removed\n",
            "Package 'nvidia-dkms-440-server' is not installed, so not removed\n",
            "Package 'nvidia-dkms-450-server' is not installed, so not removed\n",
            "Package 'nvidia-dkms-460' is not installed, so not removed\n",
            "Package 'nvidia-dkms-460-server' is not installed, so not removed\n",
            "Package 'nvidia-dkms-465' is not installed, so not removed\n",
            "Package 'nvidia-dkms-470' is not installed, so not removed\n",
            "Package 'nvidia-dkms-470-server' is not installed, so not removed\n",
            "Package 'nvidia-dkms-495' is not installed, so not removed\n",
            "Package 'nvidia-dkms-510' is not installed, so not removed\n",
            "Package 'nvidia-dkms-510-server' is not installed, so not removed\n",
            "Package 'nvidia-dkms-515' is not installed, so not removed\n",
            "Package 'nvidia-dkms-515-open' is not installed, so not removed\n",
            "Package 'nvidia-dkms-515-server' is not installed, so not removed\n",
            "Package 'nvidia-dkms-520' is not installed, so not removed\n",
            "Package 'nvidia-dkms-520-open' is not installed, so not removed\n",
            "Package 'nvidia-dkms-525-open' is not installed, so not removed\n",
            "Package 'nvidia-dkms-525-server' is not installed, so not removed\n",
            "Package 'nvidia-dkms-535-server' is not installed, so not removed\n",
            "Package 'nvidia-dkms-535-server-open' is not installed, so not removed\n",
            "Package 'nvidia-driver-390' is not installed, so not removed\n",
            "Package 'nvidia-driver-418-server' is not installed, so not removed\n",
            "Package 'nvidia-driver-440-server' is not installed, so not removed\n",
            "Package 'nvidia-driver-450-server' is not installed, so not removed\n",
            "Package 'nvidia-driver-460' is not installed, so not removed\n",
            "Package 'nvidia-driver-460-server' is not installed, so not removed\n",
            "Package 'nvidia-driver-465' is not installed, so not removed\n",
            "Package 'nvidia-driver-470' is not installed, so not removed\n",
            "Package 'nvidia-driver-470-server' is not installed, so not removed\n",
            "Package 'nvidia-driver-495' is not installed, so not removed\n",
            "Package 'nvidia-driver-510' is not installed, so not removed\n",
            "Package 'nvidia-driver-510-server' is not installed, so not removed\n",
            "Package 'nvidia-driver-515' is not installed, so not removed\n",
            "Package 'nvidia-driver-515-open' is not installed, so not removed\n",
            "Package 'nvidia-driver-515-server' is not installed, so not removed\n",
            "Package 'nvidia-driver-520' is not installed, so not removed\n",
            "Package 'nvidia-driver-520-open' is not installed, so not removed\n",
            "Package 'nvidia-driver-525-open' is not installed, so not removed\n",
            "Package 'nvidia-driver-525-server' is not installed, so not removed\n",
            "Package 'nvidia-driver-535-server' is not installed, so not removed\n",
            "Package 'nvidia-driver-535-server-open' is not installed, so not removed\n",
            "Package 'nvidia-fabricmanager-515' is not installed, so not removed\n",
            "Package 'nvidia-fabricmanager-dev-515' is not installed, so not removed\n",
            "Package 'nvidia-firmware-535-535.54.03' is not installed, so not removed\n",
            "Package 'nvidia-firmware-535-535.86.05' is not installed, so not removed\n",
            "Package 'nvidia-firmware-535-server-535.54.03' is not installed, so not removed\n",
            "Package 'nvidia-headless-390' is not installed, so not removed\n",
            "Package 'nvidia-headless-418-server' is not installed, so not removed\n",
            "Package 'nvidia-headless-440-server' is not installed, so not removed\n",
            "Package 'nvidia-headless-450-server' is not installed, so not removed\n",
            "Package 'nvidia-headless-460' is not installed, so not removed\n",
            "Package 'nvidia-headless-460-server' is not installed, so not removed\n",
            "Package 'nvidia-headless-465' is not installed, so not removed\n",
            "Package 'nvidia-headless-470' is not installed, so not removed\n",
            "Package 'nvidia-headless-470-server' is not installed, so not removed\n",
            "Package 'nvidia-headless-495' is not installed, so not removed\n",
            "Package 'nvidia-headless-510' is not installed, so not removed\n",
            "Package 'nvidia-headless-510-server' is not installed, so not removed\n",
            "Package 'nvidia-headless-515' is not installed, so not removed\n",
            "Package 'nvidia-headless-515-open' is not installed, so not removed\n",
            "Package 'nvidia-headless-515-server' is not installed, so not removed\n",
            "Package 'nvidia-headless-520' is not installed, so not removed\n",
            "Package 'nvidia-headless-520-open' is not installed, so not removed\n",
            "Package 'nvidia-headless-525-open' is not installed, so not removed\n",
            "Package 'nvidia-headless-525-server' is not installed, so not removed\n",
            "Package 'nvidia-headless-535-server' is not installed, so not removed\n",
            "Package 'nvidia-headless-535-server-open' is not installed, so not removed\n",
            "Package 'nvidia-headless-no-dkms-390' is not installed, so not removed\n",
            "Package 'nvidia-headless-no-dkms-418-server' is not installed, so not removed\n",
            "Package 'nvidia-headless-no-dkms-440-server' is not installed, so not removed\n",
            "Package 'nvidia-headless-no-dkms-450-server' is not installed, so not removed\n",
            "Package 'nvidia-headless-no-dkms-460' is not installed, so not removed\n",
            "Package 'nvidia-headless-no-dkms-460-server' is not installed, so not removed\n",
            "Package 'nvidia-headless-no-dkms-465' is not installed, so not removed\n",
            "Package 'nvidia-headless-no-dkms-470' is not installed, so not removed\n",
            "Package 'nvidia-headless-no-dkms-470-server' is not installed, so not removed\n",
            "Package 'nvidia-headless-no-dkms-495' is not installed, so not removed\n",
            "Package 'nvidia-headless-no-dkms-510' is not installed, so not removed\n",
            "Package 'nvidia-headless-no-dkms-510-server' is not installed, so not removed\n",
            "Package 'nvidia-headless-no-dkms-515' is not installed, so not removed\n",
            "Package 'nvidia-headless-no-dkms-515-open' is not installed, so not removed\n",
            "Package 'nvidia-headless-no-dkms-515-server' is not installed, so not removed\n",
            "Package 'nvidia-headless-no-dkms-520' is not installed, so not removed\n",
            "Package 'nvidia-headless-no-dkms-520-open' is not installed, so not removed\n",
            "Package 'nvidia-headless-no-dkms-525-open' is not installed, so not removed\n",
            "Package 'nvidia-headless-no-dkms-525-server' is not installed, so not removed\n",
            "Package 'nvidia-headless-no-dkms-535-server' is not installed, so not removed\n",
            "Package 'nvidia-headless-no-dkms-535-server-open' is not installed, so not removed\n",
            "Package 'nvidia-kernel-common-390' is not installed, so not removed\n",
            "Package 'nvidia-kernel-common-418-server' is not installed, so not removed\n",
            "Package 'nvidia-kernel-common-440-server' is not installed, so not removed\n",
            "Package 'nvidia-kernel-common-450-server' is not installed, so not removed\n",
            "Package 'nvidia-kernel-common-460' is not installed, so not removed\n",
            "Package 'nvidia-kernel-common-460-server' is not installed, so not removed\n",
            "Package 'nvidia-kernel-common-465' is not installed, so not removed\n",
            "Package 'nvidia-kernel-common-470' is not installed, so not removed\n",
            "Package 'nvidia-kernel-common-470-server' is not installed, so not removed\n",
            "Package 'nvidia-kernel-common-495' is not installed, so not removed\n",
            "Package 'nvidia-kernel-common-510' is not installed, so not removed\n",
            "Package 'nvidia-kernel-common-510-server' is not installed, so not removed\n",
            "Package 'nvidia-kernel-common-515' is not installed, so not removed\n",
            "Package 'nvidia-kernel-common-515-server' is not installed, so not removed\n",
            "Package 'nvidia-kernel-common-520' is not installed, so not removed\n",
            "Package 'nvidia-kernel-common-525-server' is not installed, so not removed\n",
            "Package 'nvidia-kernel-common-535-server' is not installed, so not removed\n",
            "Package 'nvidia-kernel-source-390' is not installed, so not removed\n",
            "Package 'nvidia-kernel-source-418-server' is not installed, so not removed\n",
            "Package 'nvidia-kernel-source-440-server' is not installed, so not removed\n",
            "Package 'nvidia-kernel-source-450-server' is not installed, so not removed\n",
            "Package 'nvidia-kernel-source-460' is not installed, so not removed\n",
            "Package 'nvidia-kernel-source-460-server' is not installed, so not removed\n",
            "Package 'nvidia-kernel-source-465' is not installed, so not removed\n",
            "Package 'nvidia-kernel-source-470' is not installed, so not removed\n",
            "Package 'nvidia-kernel-source-470-server' is not installed, so not removed\n",
            "Package 'nvidia-kernel-source-495' is not installed, so not removed\n",
            "Package 'nvidia-kernel-source-510' is not installed, so not removed\n",
            "Package 'nvidia-kernel-source-510-server' is not installed, so not removed\n",
            "Package 'nvidia-kernel-source-515' is not installed, so not removed\n",
            "Package 'nvidia-kernel-source-515-open' is not installed, so not removed\n",
            "Package 'nvidia-kernel-source-515-server' is not installed, so not removed\n",
            "Package 'nvidia-kernel-source-520' is not installed, so not removed\n",
            "Package 'nvidia-kernel-source-520-open' is not installed, so not removed\n",
            "Package 'nvidia-kernel-source-525-open' is not installed, so not removed\n",
            "Package 'nvidia-kernel-source-525-server' is not installed, so not removed\n",
            "Package 'nvidia-kernel-source-535-server' is not installed, so not removed\n",
            "Package 'nvidia-kernel-source-535-server-open' is not installed, so not removed\n",
            "Package 'nvidia-utils-390' is not installed, so not removed\n",
            "Package 'nvidia-utils-418-server' is not installed, so not removed\n",
            "Package 'nvidia-utils-440-server' is not installed, so not removed\n",
            "Package 'nvidia-utils-450-server' is not installed, so not removed\n",
            "Package 'nvidia-utils-460' is not installed, so not removed\n",
            "Package 'nvidia-utils-460-server' is not installed, so not removed\n",
            "Package 'nvidia-utils-465' is not installed, so not removed\n",
            "Package 'nvidia-utils-470' is not installed, so not removed\n",
            "Package 'nvidia-utils-470-server' is not installed, so not removed\n",
            "Package 'nvidia-utils-495' is not installed, so not removed\n",
            "Package 'nvidia-utils-510' is not installed, so not removed\n",
            "Package 'nvidia-utils-510-server' is not installed, so not removed\n",
            "Package 'nvidia-utils-515' is not installed, so not removed\n",
            "Package 'nvidia-utils-515-server' is not installed, so not removed\n",
            "Package 'nvidia-utils-520' is not installed, so not removed\n",
            "Package 'nvidia-utils-525-server' is not installed, so not removed\n",
            "Package 'nvidia-utils-535-server' is not installed, so not removed\n",
            "Package 'nvidia-common' is not installed, so not removed\n",
            "Package 'libnvidia-nscq-450' is not installed, so not removed\n",
            "Package 'libnvidia-nscq-460' is not installed, so not removed\n",
            "Package 'libnvidia-nscq-470' is not installed, so not removed\n",
            "Package 'libnvidia-nscq-510' is not installed, so not removed\n",
            "Package 'nvidia-fabricmanager-450' is not installed, so not removed\n",
            "Package 'nvidia-fabricmanager-460' is not installed, so not removed\n",
            "Package 'nvidia-fabricmanager-470' is not installed, so not removed\n",
            "Package 'nvidia-fabricmanager-510' is not installed, so not removed\n",
            "Package 'nvidia-fabricmanager-dev-450' is not installed, so not removed\n",
            "Package 'nvidia-fabricmanager-dev-460' is not installed, so not removed\n",
            "Package 'nvidia-fabricmanager-dev-470' is not installed, so not removed\n",
            "Package 'nvidia-fabricmanager-dev-510' is not installed, so not removed\n",
            "Package 'nvidia-libopencl1-384' is not installed, so not removed\n",
            "Package 'nvidia-opencl-icd-384' is not installed, so not removed\n",
            "Package 'nvidia-gds-11-7' is not installed, so not removed\n",
            "Package 'libnvidia-nscq-520' is not installed, so not removed\n",
            "Package 'nvidia-fabricmanager-520' is not installed, so not removed\n",
            "Package 'nvidia-fabricmanager-dev-520' is not installed, so not removed\n",
            "Package 'nvidia-gds-11-8' is not installed, so not removed\n",
            "Package 'nvidia-kernel-open-520' is not installed, so not removed\n",
            "Package 'nvidia-gds-12-0' is not installed, so not removed\n",
            "Package 'libnvidia-nscq-530' is not installed, so not removed\n",
            "Package 'nvidia-fabricmanager-530' is not installed, so not removed\n",
            "Package 'nvidia-fabricmanager-dev-530' is not installed, so not removed\n",
            "Package 'nvidia-kernel-open-530' is not installed, so not removed\n",
            "Package 'nvidia-kernel-open-515' is not installed, so not removed\n",
            "Package 'nvidia-container-runtime' is not installed, so not removed\n",
            "Package 'nvidia-docker2' is not installed, so not removed\n",
            "Package 'nvidia-gds-12-1' is not installed, so not removed\n",
            "Package 'libnvidia-cfg1-525' is not installed, so not removed\n",
            "Package 'libnvidia-common-525' is not installed, so not removed\n",
            "Package 'libnvidia-compute-525' is not installed, so not removed\n",
            "Package 'libnvidia-decode-525' is not installed, so not removed\n",
            "Package 'libnvidia-encode-525' is not installed, so not removed\n",
            "Package 'libnvidia-extra-525' is not installed, so not removed\n",
            "Package 'libnvidia-fbc1-525' is not installed, so not removed\n",
            "Package 'libnvidia-gl-525' is not installed, so not removed\n",
            "Package 'libnvidia-nscq-525' is not installed, so not removed\n",
            "Package 'nvidia-compute-utils-525' is not installed, so not removed\n",
            "Package 'nvidia-dkms-525' is not installed, so not removed\n",
            "Package 'nvidia-driver-525' is not installed, so not removed\n",
            "Package 'nvidia-fabricmanager-525' is not installed, so not removed\n",
            "Package 'nvidia-fabricmanager-dev-525' is not installed, so not removed\n",
            "Package 'nvidia-headless-525' is not installed, so not removed\n",
            "Package 'nvidia-headless-no-dkms-525' is not installed, so not removed\n",
            "Package 'nvidia-kernel-common-525' is not installed, so not removed\n",
            "Package 'nvidia-kernel-open-525' is not installed, so not removed\n",
            "Package 'nvidia-kernel-source-525' is not installed, so not removed\n",
            "Package 'nvidia-utils-525' is not installed, so not removed\n",
            "Package 'cuda' is not installed, so not removed\n",
            "Package 'libnvidia-cfg1-430' is not installed, so not removed\n",
            "Package 'libnvidia-cfg1-535' is not installed, so not removed\n",
            "Package 'libnvidia-common-430' is not installed, so not removed\n",
            "Package 'libnvidia-common-535' is not installed, so not removed\n",
            "Package 'libnvidia-compute-430' is not installed, so not removed\n",
            "Package 'libnvidia-compute-535' is not installed, so not removed\n",
            "Package 'libnvidia-decode-430' is not installed, so not removed\n",
            "Package 'libnvidia-decode-535' is not installed, so not removed\n",
            "Package 'libnvidia-encode-430' is not installed, so not removed\n",
            "Package 'libnvidia-encode-535' is not installed, so not removed\n",
            "Package 'libnvidia-extra-535' is not installed, so not removed\n",
            "Package 'libnvidia-fbc1-430' is not installed, so not removed\n",
            "Package 'libnvidia-fbc1-535' is not installed, so not removed\n",
            "Package 'libnvidia-gl-430' is not installed, so not removed\n",
            "Package 'libnvidia-gl-535' is not installed, so not removed\n",
            "Package 'libnvidia-nscq-535' is not installed, so not removed\n",
            "Package 'nvidia-compute-utils-430' is not installed, so not removed\n",
            "Package 'nvidia-compute-utils-535' is not installed, so not removed\n",
            "Package 'nvidia-dkms-430' is not installed, so not removed\n",
            "Package 'nvidia-dkms-535' is not installed, so not removed\n",
            "Package 'nvidia-driver-430' is not installed, so not removed\n",
            "Package 'nvidia-driver-535' is not installed, so not removed\n",
            "Package 'nvidia-fabricmanager-535' is not installed, so not removed\n",
            "Package 'nvidia-fabricmanager-dev-535' is not installed, so not removed\n",
            "Package 'nvidia-fs' is not installed, so not removed\n",
            "Package 'nvidia-fs-dkms' is not installed, so not removed\n",
            "Package 'nvidia-gds-12-2' is not installed, so not removed\n",
            "Package 'nvidia-gds' is not installed, so not removed\n",
            "Package 'nvidia-headless-430' is not installed, so not removed\n",
            "Package 'nvidia-headless-535' is not installed, so not removed\n",
            "Package 'nvidia-headless-no-dkms-430' is not installed, so not removed\n",
            "Package 'nvidia-headless-no-dkms-535' is not installed, so not removed\n",
            "Package 'nvidia-kernel-common-430' is not installed, so not removed\n",
            "Package 'nvidia-kernel-common-535' is not installed, so not removed\n",
            "Package 'nvidia-kernel-open-535' is not installed, so not removed\n",
            "Package 'nvidia-kernel-source-430' is not installed, so not removed\n",
            "Package 'nvidia-kernel-source-535' is not installed, so not removed\n",
            "Package 'nvidia-modprobe' is not installed, so not removed\n",
            "Package 'nvidia-settings' is not installed, so not removed\n",
            "Package 'nvidia-utils-430' is not installed, so not removed\n",
            "Package 'nvidia-utils-535' is not installed, so not removed\n",
            "Package 'libnvidia-container1' is not installed, so not removed\n",
            "Package 'libnvidia-container1-dbg' is not installed, so not removed\n",
            "Package 'libnvidia-container-dev' is not installed, so not removed\n",
            "Package 'libnvidia-container-tools' is not installed, so not removed\n",
            "Package 'nvidia-container-toolkit' is not installed, so not removed\n",
            "Package 'nvidia-container-toolkit-base' is not installed, so not removed\n",
            "Package 'libnvidia-cfg1-530' is not installed, so not removed\n",
            "Package 'libnvidia-common-530' is not installed, so not removed\n",
            "Package 'libnvidia-compute-530' is not installed, so not removed\n",
            "Package 'libnvidia-decode-530' is not installed, so not removed\n",
            "Package 'libnvidia-encode-530' is not installed, so not removed\n",
            "Package 'libnvidia-extra-530' is not installed, so not removed\n",
            "Package 'libnvidia-fbc1-530' is not installed, so not removed\n",
            "Package 'libnvidia-gl-530' is not installed, so not removed\n",
            "Package 'nvidia-compute-utils-530' is not installed, so not removed\n",
            "Package 'nvidia-dkms-530' is not installed, so not removed\n",
            "Package 'nvidia-dkms-530-open' is not installed, so not removed\n",
            "Package 'nvidia-dkms-535-open' is not installed, so not removed\n",
            "Package 'nvidia-driver-530' is not installed, so not removed\n",
            "Package 'nvidia-driver-530-open' is not installed, so not removed\n",
            "Package 'nvidia-driver-535-open' is not installed, so not removed\n",
            "Package 'nvidia-driver-core-535' is not installed, so not removed\n",
            "Package 'nvidia-driver-core-535-open' is not installed, so not removed\n",
            "Package 'nvidia-driver-lrm-535' is not installed, so not removed\n",
            "Package 'nvidia-driver-lrm-535-open' is not installed, so not removed\n",
            "Package 'nvidia-firmware-535-535.104.05' is not installed, so not removed\n",
            "Package 'nvidia-firmware-535-535.98' is not installed, so not removed\n",
            "Package 'nvidia-headless-530' is not installed, so not removed\n",
            "Package 'nvidia-headless-530-open' is not installed, so not removed\n",
            "Package 'nvidia-headless-535-open' is not installed, so not removed\n",
            "Package 'nvidia-headless-no-dkms-530' is not installed, so not removed\n",
            "Package 'nvidia-headless-no-dkms-530-open' is not installed, so not removed\n",
            "Package 'nvidia-headless-no-dkms-535-open' is not installed, so not removed\n",
            "Package 'nvidia-kernel-common-530' is not installed, so not removed\n",
            "Package 'nvidia-kernel-source-530' is not installed, so not removed\n",
            "Package 'nvidia-kernel-source-530-open' is not installed, so not removed\n",
            "Package 'nvidia-kernel-source-535-open' is not installed, so not removed\n",
            "Package 'nvidia-utils-530' is not installed, so not removed\n",
            "The following packages were automatically installed and are no longer required:\n",
            "  ocl-icd-opencl-dev opencl-c-headers opencl-clhpp-headers\n",
            "Use 'apt autoremove' to remove them.\n",
            "The following packages will be REMOVED:\n",
            "  nvidia-opencl-dev*\n",
            "0 upgraded, 0 newly installed, 1 to remove and 16 not upgraded.\n",
            "After this operation, 88.1 kB disk space will be freed.\n",
            "(Reading database ... 120901 files and directories currently installed.)\n",
            "Removing nvidia-opencl-dev:amd64 (11.5.1-1ubuntu1) ...\n",
            "\u001b[1mdpkg:\u001b[0m dependency problems prevent removal of cuda-cccl-11-8:\n",
            " cuda-minimal-build-11-8 depends on cuda-cccl-11-8 (>= 11.8.89).\n",
            " cuda-libraries-dev-11-8 depends on cuda-cccl-11-8 (>= 11.8.89).\n",
            " cuda-cudart-dev-11-8 depends on cuda-cccl-11-8.\n",
            "\n",
            "\u001b[1mdpkg:\u001b[0m error processing package cuda-cccl-11-8 (--purge):\n",
            " dependency problems - not removing\n",
            "Errors were encountered while processing:\n",
            " cuda-cccl-11-8\n",
            "(Reading database ... 120898 files and directories currently installed.)\n",
            "Removing cuda-command-line-tools-11-8 (11.8.0-1) ...\n",
            "(Reading database ... 120896 files and directories currently installed.)\n",
            "Removing cuda-compat-11-8 (520.61.05-1) ...\n",
            "Processing triggers for libc-bin (2.35-0ubuntu3.1) ...\n",
            "/sbin/ldconfig.real: /usr/local/lib/libtbbbind_2_5.so.3 is not a symbolic link\n",
            "\n",
            "/sbin/ldconfig.real: /usr/local/lib/libtbbmalloc.so.2 is not a symbolic link\n",
            "\n",
            "/sbin/ldconfig.real: /usr/local/lib/libtbbbind_2_0.so.3 is not a symbolic link\n",
            "\n",
            "/sbin/ldconfig.real: /usr/local/lib/libtbbbind.so.3 is not a symbolic link\n",
            "\n",
            "/sbin/ldconfig.real: /usr/local/lib/libtbb.so.12 is not a symbolic link\n",
            "\n",
            "/sbin/ldconfig.real: /usr/local/lib/libtbbmalloc_proxy.so.2 is not a symbolic link\n",
            "\n",
            "\u001b[1mdpkg:\u001b[0m dependency problems prevent removal of cuda-compiler-11-8:\n",
            " cuda-minimal-build-11-8 depends on cuda-compiler-11-8 (>= 11.8.0).\n",
            "\n",
            "\u001b[1mdpkg:\u001b[0m error processing package cuda-compiler-11-8 (--purge):\n",
            " dependency problems - not removing\n",
            "Errors were encountered while processing:\n",
            " cuda-compiler-11-8\n",
            "\u001b[1mdpkg:\u001b[0m dependency problems prevent removal of cuda-cudart-11-8:\n",
            " cuda-libraries-11-8 depends on cuda-cudart-11-8 (>= 11.8.89).\n",
            " cuda-cudart-dev-11-8 depends on cuda-cudart-11-8 (>= 11.8.89).\n",
            "\n",
            "\u001b[1mdpkg:\u001b[0m error processing package cuda-cudart-11-8 (--purge):\n",
            " dependency problems - not removing\n",
            "Errors were encountered while processing:\n",
            " cuda-cudart-11-8\n",
            "\u001b[1mdpkg:\u001b[0m dependency problems prevent removal of cuda-cudart-dev-11-8:\n",
            " cuda-nvcc-11-8 depends on cuda-cudart-dev-11-8.\n",
            " cuda-minimal-build-11-8 depends on cuda-cudart-dev-11-8 (>= 11.8.89).\n",
            " cuda-libraries-dev-11-8 depends on cuda-cudart-dev-11-8 (>= 11.8.89).\n",
            "\n",
            "\u001b[1mdpkg:\u001b[0m error processing package cuda-cudart-dev-11-8 (--purge):\n",
            " dependency problems - not removing\n",
            "Errors were encountered while processing:\n",
            " cuda-cudart-dev-11-8\n",
            "\u001b[1mdpkg:\u001b[0m dependency problems prevent removal of cuda-cuobjdump-11-8:\n",
            " cuda-gdb-11-8 depends on cuda-cuobjdump-11-8.\n",
            " cuda-compiler-11-8 depends on cuda-cuobjdump-11-8 (>= 11.8.86).\n",
            "\n",
            "\u001b[1mdpkg:\u001b[0m error processing package cuda-cuobjdump-11-8 (--purge):\n",
            " dependency problems - not removing\n",
            "Errors were encountered while processing:\n",
            " cuda-cuobjdump-11-8\n",
            "\u001b[1mdpkg:\u001b[0m dependency problems prevent removal of cuda-cupti-11-8:\n",
            " cuda-cupti-dev-11-8 depends on cuda-cupti-11-8 (>= 11.8.87).\n",
            "\n",
            "\u001b[1mdpkg:\u001b[0m error processing package cuda-cupti-11-8 (--purge):\n",
            " dependency problems - not removing\n",
            "Errors were encountered while processing:\n",
            " cuda-cupti-11-8\n",
            "(Reading database ... 120883 files and directories currently installed.)\n",
            "Removing cuda-cupti-dev-11-8 (11.8.87-1) ...\n",
            "\u001b[1mdpkg:\u001b[0m dependency problems prevent removal of cuda-cuxxfilt-11-8:\n",
            " cuda-compiler-11-8 depends on cuda-cuxxfilt-11-8 (>= 11.8.86).\n",
            "\n",
            "\u001b[1mdpkg:\u001b[0m error processing package cuda-cuxxfilt-11-8 (--purge):\n",
            " dependency problems - not removing\n",
            "Errors were encountered while processing:\n",
            " cuda-cuxxfilt-11-8\n",
            "\u001b[1mdpkg:\u001b[0m dependency problems prevent removal of cuda-driver-dev-11-8:\n",
            " cuda-libraries-dev-11-8 depends on cuda-driver-dev-11-8 (>= 11.8.89).\n",
            " cuda-cudart-dev-11-8 depends on cuda-driver-dev-11-8 (>= 11.8.89).\n",
            "\n",
            "\u001b[1mdpkg:\u001b[0m error processing package cuda-driver-dev-11-8 (--purge):\n",
            " dependency problems - not removing\n",
            "Errors were encountered while processing:\n",
            " cuda-driver-dev-11-8\n",
            "(Reading database ... 120393 files and directories currently installed.)\n",
            "Removing cuda-gdb-11-8 (11.8.86-1) ...\n",
            "(Reading database ... 120328 files and directories currently installed.)\n",
            "Removing cuda-keyring (1.0-1) ...\n",
            "Purging configuration files for cuda-keyring (1.0-1) ...\n",
            "(Reading database ... 120323 files and directories currently installed.)\n",
            "Removing cuda-libraries-11-8 (11.8.0-1) ...\n",
            "(Reading database ... 120321 files and directories currently installed.)\n",
            "Removing cuda-libraries-dev-11-8 (11.8.0-1) ...\n",
            "(Reading database ... 120319 files and directories currently installed.)\n",
            "Removing cuda-memcheck-11-8 (11.8.86-1) ...\n",
            "(Reading database ... 120315 files and directories currently installed.)\n",
            "Removing cuda-minimal-build-11-8 (11.8.0-1) ...\n",
            "(Reading database ... 120313 files and directories currently installed.)\n",
            "Removing cuda-nsight-compute-11-8 (11.8.0-1) ...\n",
            "\u001b[1mdpkg:\u001b[0m dependency problems prevent removal of cuda-nvcc-11-8:\n",
            " cuda-compiler-11-8 depends on cuda-nvcc-11-8 (>= 11.8.89).\n",
            "\n",
            "\u001b[1mdpkg:\u001b[0m error processing package cuda-nvcc-11-8 (--purge):\n",
            " dependency problems - not removing\n",
            "Errors were encountered while processing:\n",
            " cuda-nvcc-11-8\n",
            "(Reading database ... 120307 files and directories currently installed.)\n",
            "Removing cuda-nvdisasm-11-8 (11.8.86-1) ...\n",
            "(Reading database ... 120303 files and directories currently installed.)\n",
            "Removing cuda-nvml-dev-11-8 (11.8.86-1) ...\n",
            "(Reading database ... 120291 files and directories currently installed.)\n",
            "Removing cuda-nvprof-11-8 (11.8.87-1) ...\n",
            "\u001b[1mdpkg:\u001b[0m dependency problems prevent removal of cuda-nvprune-11-8:\n",
            " cuda-compiler-11-8 depends on cuda-nvprune-11-8 (>= 11.8.86).\n",
            "\n",
            "\u001b[1mdpkg:\u001b[0m error processing package cuda-nvprune-11-8 (--purge):\n",
            " dependency problems - not removing\n",
            "Errors were encountered while processing:\n",
            " cuda-nvprune-11-8\n",
            "\u001b[1mdpkg:\u001b[0m dependency problems prevent removal of cuda-nvrtc-11-8:\n",
            " cuda-nvrtc-dev-11-8 depends on cuda-nvrtc-11-8 (>= 11.8.89).\n",
            "\n",
            "\u001b[1mdpkg:\u001b[0m error processing package cuda-nvrtc-11-8 (--purge):\n",
            " dependency problems - not removing\n",
            "Errors were encountered while processing:\n",
            " cuda-nvrtc-11-8\n",
            "(Reading database ... 120279 files and directories currently installed.)\n",
            "Removing cuda-nvrtc-dev-11-8 (11.8.89-1) ...\n",
            "(Reading database ... 120269 files and directories currently installed.)\n",
            "Removing cuda-nvtx-11-8 (11.8.86-1) ...\n",
            "(Reading database ... 120239 files and directories currently installed.)\n",
            "Removing cuda-profiler-api-11-8 (11.8.86-1) ...\n",
            "(Reading database ... 120234 files and directories currently installed.)\n",
            "Removing cuda-sanitizer-11-8 (11.8.86-1) ...\n",
            "\u001b[1mdpkg:\u001b[0m dependency problems prevent removal of cuda-toolkit-11-8-config-common:\n",
            " libnvjpeg-11-8 depends on cuda-toolkit-11-8-config-common.\n",
            " libnpp-11-8 depends on cuda-toolkit-11-8-config-common.\n",
            " libcusparse-11-8 depends on cuda-toolkit-11-8-config-common.\n",
            " libcusolver-11-8 depends on cuda-toolkit-11-8-config-common.\n",
            " libcurand-11-8 depends on cuda-toolkit-11-8-config-common.\n",
            " libcufile-11-8 depends on cuda-toolkit-11-8-config-common.\n",
            " libcufft-11-8 depends on cuda-toolkit-11-8-config-common.\n",
            " libcublas-11-8 depends on cuda-toolkit-11-8-config-common.\n",
            " cuda-cudart-11-8 depends on cuda-toolkit-11-8-config-common.\n",
            "\n",
            "\u001b[1mdpkg:\u001b[0m error processing package cuda-toolkit-11-8-config-common (--purge):\n",
            " dependency problems - not removing\n",
            "Errors were encountered while processing:\n",
            " cuda-toolkit-11-8-config-common\n",
            "\u001b[1mdpkg:\u001b[0m dependency problems prevent removal of cuda-toolkit-11-config-common:\n",
            " libnvjpeg-11-8 depends on cuda-toolkit-11-config-common | cuda-cudart-11-2; however:\n",
            "  Package cuda-toolkit-11-config-common is to be removed.\n",
            "  Package cuda-cudart-11-2 is not installed.\n",
            " libnpp-11-8 depends on cuda-toolkit-11-config-common | cuda-cudart-11-2; however:\n",
            "  Package cuda-toolkit-11-config-common is to be removed.\n",
            "  Package cuda-cudart-11-2 is not installed.\n",
            " libcusparse-11-8 depends on cuda-toolkit-11-config-common | cuda-cudart-11-2; however:\n",
            "  Package cuda-toolkit-11-config-common is to be removed.\n",
            "  Package cuda-cudart-11-2 is not installed.\n",
            " libcusolver-11-8 depends on cuda-toolkit-11-config-common | cuda-cudart-11-2; however:\n",
            "  Package cuda-toolkit-11-config-common is to be removed.\n",
            "  Package cuda-cudart-11-2 is not installed.\n",
            " libcurand-11-8 depends on cuda-toolkit-11-config-common | cuda-cudart-11-2; however:\n",
            "  Package cuda-toolkit-11-config-common is to be removed.\n",
            "  Package cuda-cudart-11-2 is not installed.\n",
            " libcufile-11-8 depends on cuda-toolkit-11-config-common | cuda-cudart-11-2; however:\n",
            "  Package cuda-toolkit-11-config-common is to be removed.\n",
            "  Package cuda-cudart-11-2 is not installed.\n",
            " libcufft-11-8 depends on cuda-toolkit-11-config-common | cuda-cudart-11-2; however:\n",
            "  Package cuda-toolkit-11-config-common is to be removed.\n",
            "  Package cuda-cudart-11-2 is not installed.\n",
            " libcublas-11-8 depends on cuda-toolkit-11-config-common | cuda-cudart-11-2; however:\n",
            "  Package cuda-toolkit-11-config-common is to be removed.\n",
            "  Package cuda-cudart-11-2 is not installed.\n",
            " cuda-cudart-11-8 depends on cuda-toolkit-11-config-common | cuda-cudart-11-2; however:\n",
            "  Package cuda-toolkit-11-config-common is to be removed.\n",
            "  Package cuda-cudart-11-2 is not installed.\n",
            "\n",
            "\u001b[1mdpkg:\u001b[0m error processing package cuda-toolkit-11-config-common (--purge):\n",
            " dependency problems - not removing\n",
            "Errors were encountered while processing:\n",
            " cuda-toolkit-11-config-common\n",
            "\u001b[1mdpkg:\u001b[0m dependency problems prevent removal of cuda-toolkit-config-common:\n",
            " libnvjpeg-11-8 depends on cuda-toolkit-config-common | cuda-cudart-11-2; however:\n",
            "  Package cuda-toolkit-config-common is to be removed.\n",
            "  Package cuda-cudart-11-2 is not installed.\n",
            " libnpp-11-8 depends on cuda-toolkit-config-common | cuda-cudart-11-2; however:\n",
            "  Package cuda-toolkit-config-common is to be removed.\n",
            "  Package cuda-cudart-11-2 is not installed.\n",
            " libcusparse-11-8 depends on cuda-toolkit-config-common | cuda-cudart-11-2; however:\n",
            "  Package cuda-toolkit-config-common is to be removed.\n",
            "  Package cuda-cudart-11-2 is not installed.\n",
            " libcusolver-11-8 depends on cuda-toolkit-config-common | cuda-cudart-11-2; however:\n",
            "  Package cuda-toolkit-config-common is to be removed.\n",
            "  Package cuda-cudart-11-2 is not installed.\n",
            " libcurand-11-8 depends on cuda-toolkit-config-common | cuda-cudart-11-2; however:\n",
            "  Package cuda-toolkit-config-common is to be removed.\n",
            "  Package cuda-cudart-11-2 is not installed.\n",
            " libcufile-11-8 depends on cuda-toolkit-config-common | cuda-cudart-11-2; however:\n",
            "  Package cuda-toolkit-config-common is to be removed.\n",
            "  Package cuda-cudart-11-2 is not installed.\n",
            " libcufft-11-8 depends on cuda-toolkit-config-common | cuda-cudart-11-2; however:\n",
            "  Package cuda-toolkit-config-common is to be removed.\n",
            "  Package cuda-cudart-11-2 is not installed.\n",
            " libcublas-11-8 depends on cuda-toolkit-config-common | cuda-cudart-11-2; however:\n",
            "  Package cuda-toolkit-config-common is to be removed.\n",
            "  Package cuda-cudart-11-2 is not installed.\n",
            " cuda-cudart-11-8 depends on cuda-toolkit-config-common | cuda-cudart-11-2; however:\n",
            "  Package cuda-toolkit-config-common is to be removed.\n",
            "  Package cuda-cudart-11-2 is not installed.\n",
            "\n",
            "\u001b[1mdpkg:\u001b[0m error processing package cuda-toolkit-config-common (--purge):\n",
            " dependency problems - not removing\n",
            "Errors were encountered while processing:\n",
            " cuda-toolkit-config-common\n",
            "Reading package lists... Done\n",
            "Building dependency tree... Done\n",
            "Reading state information... Done\n",
            "Note, selecting 'cuda-cudart-dev-11-8' for glob 'cuda-*'\n",
            "Note, selecting 'cuda-cuobjdump-11-8' for glob 'cuda-*'\n",
            "Note, selecting 'cuda-driver-dev-11-8' for glob 'cuda-*'\n",
            "Note, selecting 'cuda-toolkit-config-common' for glob 'cuda-*'\n",
            "Note, selecting 'cuda-nvrtc-11-8' for glob 'cuda-*'\n",
            "Note, selecting 'cuda-drivers-fabricmanager-450' for glob 'cuda-*'\n",
            "Note, selecting 'cuda-drivers-fabricmanager-460' for glob 'cuda-*'\n",
            "Note, selecting 'cuda-drivers-fabricmanager-470' for glob 'cuda-*'\n",
            "Note, selecting 'cuda-drivers-fabricmanager-510' for glob 'cuda-*'\n",
            "Note, selecting 'cuda-drivers-fabricmanager-515' for glob 'cuda-*'\n",
            "Note, selecting 'cuda-drivers-fabricmanager-525' for glob 'cuda-*'\n",
            "Note, selecting 'cuda-drivers-fabricmanager-535' for glob 'cuda-*'\n",
            "Note, selecting 'cuda-thrust-11-8' for glob 'cuda-*'\n",
            "Note, selecting 'cuda-drivers-fabricmanager' for glob 'cuda-*'\n",
            "Note, selecting 'cuda-cuxxfilt-11-8' for glob 'cuda-*'\n",
            "Note, selecting 'cuda-cccl-11-8' for glob 'cuda-*'\n",
            "Note, selecting 'cuda-cupti-11-8' for glob 'cuda-*'\n",
            "Note, selecting 'cuda-toolkit-11-8-config-common' for glob 'cuda-*'\n",
            "Note, selecting 'cuda-nvprune-11-8' for glob 'cuda-*'\n",
            "Note, selecting 'cuda-license-10-1' for glob 'cuda-*'\n",
            "Note, selecting 'cuda-license-10-2' for glob 'cuda-*'\n",
            "Note, selecting 'cuda-cudart-11-2' for glob 'cuda-*'\n",
            "Note, selecting 'cuda-cudart-11-8' for glob 'cuda-*'\n",
            "Note, selecting 'cuda-nvcc-11-8' for glob 'cuda-*'\n",
            "Note, selecting 'cuda-compiler-11-8' for glob 'cuda-*'\n",
            "Note, selecting 'cuda-toolkit-11-config-common' for glob 'cuda-*'\n",
            "Note, selecting 'cuda-cub-11-8' for glob 'cuda-*'\n",
            "Package 'cuda-license-10-1' is not installed, so not removed\n",
            "Package 'cuda-license-10-2' is not installed, so not removed\n",
            "Note, selecting 'cuda-cccl-11-8' instead of 'cuda-cub-11-8'\n",
            "Note, selecting 'cuda-cccl-11-8' instead of 'cuda-thrust-11-8'\n",
            "Package 'cuda-cudart-11-2' is not installed, so not removed\n",
            "Package 'cuda-drivers-fabricmanager-515' is not installed, so not removed\n",
            "Package 'cuda-drivers-fabricmanager-450' is not installed, so not removed\n",
            "Package 'cuda-drivers-fabricmanager-460' is not installed, so not removed\n",
            "Package 'cuda-drivers-fabricmanager-470' is not installed, so not removed\n",
            "Package 'cuda-drivers-fabricmanager-510' is not installed, so not removed\n",
            "Package 'cuda-drivers-fabricmanager-525' is not installed, so not removed\n",
            "Package 'cuda-drivers-fabricmanager-535' is not installed, so not removed\n",
            "Some packages could not be installed. This may mean that you have\n",
            "requested an impossible situation or if you are using the unstable\n",
            "distribution that some required packages have not yet been created\n",
            "or been moved out of Incoming.\n",
            "The following information may help to resolve the situation:\n",
            "\n",
            "The following packages have unmet dependencies:\n",
            " libcublas-11-8 : Depends: cuda-toolkit-config-common but it is not going to be installed or\n",
            "                           cuda-cudart-11-2 but it is not installable\n",
            "                  Depends: cuda-toolkit-11-config-common but it is not going to be installed or\n",
            "                           cuda-cudart-11-2 but it is not installable\n",
            "                  Depends: cuda-toolkit-11-8-config-common but it is not going to be installed\n",
            "E: Error, pkgProblemResolver::Resolve generated breaks, this may be caused by held packages.\n",
            "Reading package lists... Done\n",
            "Building dependency tree... Done\n",
            "Reading state information... Done\n",
            "The following packages will be REMOVED:\n",
            "  cuda-compiler-11-8 cuda-cuobjdump-11-8 cuda-cupti-11-8 cuda-cuxxfilt-11-8\n",
            "  cuda-nvcc-11-8 cuda-nvprune-11-8 cuda-nvrtc-11-8 libcufft-11-8\n",
            "  libcufft-dev-11-8 libcufile-11-8 libcufile-dev-11-8 libcurand-11-8\n",
            "  libcurand-dev-11-8 libcusolver-11-8 libcusolver-dev-11-8 libnvjpeg-11-8\n",
            "  libnvjpeg-dev-11-8 nsight-compute-2022.3.0 ocl-icd-opencl-dev\n",
            "  opencl-c-headers opencl-clhpp-headers\n",
            "0 upgraded, 0 newly installed, 21 to remove and 10 not upgraded.\n",
            "After this operation, 3,235 MB disk space will be freed.\n",
            "(Reading database ... 120020 files and directories currently installed.)\n",
            "Removing cuda-compiler-11-8 (11.8.0-1) ...\n",
            "Removing cuda-cuobjdump-11-8 (11.8.86-1) ...\n",
            "Removing cuda-cupti-11-8 (11.8.87-1) ...\n",
            "Removing cuda-cuxxfilt-11-8 (11.8.86-1) ...\n",
            "Removing cuda-nvcc-11-8 (11.8.89-1) ...\n",
            "Removing cuda-nvprune-11-8 (11.8.86-1) ...\n",
            "Removing cuda-nvrtc-11-8 (11.8.89-1) ...\n",
            "Removing libcufft-dev-11-8 (10.9.0.58-1) ...\n",
            "Removing libcufft-11-8 (10.9.0.58-1) ...\n",
            "Removing libcufile-dev-11-8 (1.4.0.31-1) ...\n",
            "Removing libcufile-11-8 (1.4.0.31-1) ...\n",
            "Removing alternatives\n",
            "Removing libcurand-dev-11-8 (10.3.0.86-1) ...\n",
            "Removing libcurand-11-8 (10.3.0.86-1) ...\n",
            "Removing libcusolver-dev-11-8 (11.4.1.48-1) ...\n",
            "Removing libcusolver-11-8 (11.4.1.48-1) ...\n",
            "Removing libnvjpeg-dev-11-8 (11.9.0.86-1) ...\n",
            "Removing libnvjpeg-11-8 (11.9.0.86-1) ...\n",
            "Removing nsight-compute-2022.3.0 (2022.3.0.22-1) ...\n",
            "\u001b[1mdpkg:\u001b[0m \u001b[1;33mwarning:\u001b[0m while removing nsight-compute-2022.3.0, directory '/opt/nvidia' not empty so not removed\n",
            "Removing ocl-icd-opencl-dev:amd64 (2.2.14-3) ...\n",
            "Removing opencl-clhpp-headers (3.0~2.0.15-1ubuntu1) ...\n",
            "Removing opencl-c-headers (3.0~2022.01.04-1) ...\n",
            "Processing triggers for libc-bin (2.35-0ubuntu3.1) ...\n",
            "/sbin/ldconfig.real: /usr/local/lib/libtbbbind_2_5.so.3 is not a symbolic link\n",
            "\n",
            "/sbin/ldconfig.real: /usr/local/lib/libtbbmalloc.so.2 is not a symbolic link\n",
            "\n",
            "/sbin/ldconfig.real: /usr/local/lib/libtbbbind_2_0.so.3 is not a symbolic link\n",
            "\n",
            "/sbin/ldconfig.real: /usr/local/lib/libtbbbind.so.3 is not a symbolic link\n",
            "\n",
            "/sbin/ldconfig.real: /usr/local/lib/libtbb.so.12 is not a symbolic link\n",
            "\n",
            "/sbin/ldconfig.real: /usr/local/lib/libtbbmalloc_proxy.so.2 is not a symbolic link\n",
            "\n",
            "Get:1 https://cloud.r-project.org/bin/linux/ubuntu jammy-cran40/ InRelease [3,626 B]\n",
            "Hit:2 http://archive.ubuntu.com/ubuntu jammy InRelease\n",
            "Get:3 http://archive.ubuntu.com/ubuntu jammy-updates InRelease [119 kB]\n",
            "Get:4 https://ppa.launchpadcontent.net/c2d4u.team/c2d4u4.0+/ubuntu jammy InRelease [18.1 kB]\n",
            "Get:5 http://archive.ubuntu.com/ubuntu jammy-backports InRelease [109 kB]\n",
            "Get:6 http://archive.ubuntu.com/ubuntu jammy-updates/universe amd64 Packages [1,254 kB]\n",
            "Get:7 http://archive.ubuntu.com/ubuntu jammy-updates/restricted amd64 Packages [1,069 kB]\n",
            "Get:8 http://archive.ubuntu.com/ubuntu jammy-updates/main amd64 Packages [1,226 kB]\n",
            "Get:9 https://ppa.launchpadcontent.net/deadsnakes/ppa/ubuntu jammy InRelease [18.1 kB]\n",
            "Hit:10 https://ppa.launchpadcontent.net/graphics-drivers/ppa/ubuntu jammy InRelease\n",
            "Hit:11 https://ppa.launchpadcontent.net/ubuntugis/ppa/ubuntu jammy InRelease\n",
            "Get:12 https://ppa.launchpadcontent.net/c2d4u.team/c2d4u4.0+/ubuntu jammy/main Sources [2,180 kB]\n",
            "Get:13 https://ppa.launchpadcontent.net/c2d4u.team/c2d4u4.0+/ubuntu jammy/main amd64 Packages [1,119 kB]\n",
            "Get:14 https://ppa.launchpadcontent.net/deadsnakes/ppa/ubuntu jammy/main amd64 Packages [21.8 kB]\n",
            "Get:15 http://security.ubuntu.com/ubuntu jammy-security InRelease [110 kB]\n",
            "Get:16 http://security.ubuntu.com/ubuntu jammy-security/main amd64 Packages [956 kB]\n",
            "Get:17 http://security.ubuntu.com/ubuntu jammy-security/restricted amd64 Packages [1,049 kB]\n",
            "Get:18 http://security.ubuntu.com/ubuntu jammy-security/universe amd64 Packages [993 kB]\n",
            "Fetched 10.2 MB in 10s (1,057 kB/s)\n",
            "Reading package lists... Done\n"
          ]
        }
      ]
    },
    {
      "cell_type": "code",
      "source": [
        "!nvidia-smi"
      ],
      "metadata": {
        "colab": {
          "base_uri": "https://localhost:8080/"
        },
        "id": "VLVYXwuNGhck",
        "outputId": "a7d7f359-9ead-4411-f29f-40b42f6d80a7"
      },
      "execution_count": null,
      "outputs": [
        {
          "output_type": "stream",
          "name": "stdout",
          "text": [
            "Thu Sep  7 14:45:09 2023       \n",
            "+-----------------------------------------------------------------------------+\n",
            "| NVIDIA-SMI 525.105.17   Driver Version: 525.105.17   CUDA Version: 12.0     |\n",
            "|-------------------------------+----------------------+----------------------+\n",
            "| GPU  Name        Persistence-M| Bus-Id        Disp.A | Volatile Uncorr. ECC |\n",
            "| Fan  Temp  Perf  Pwr:Usage/Cap|         Memory-Usage | GPU-Util  Compute M. |\n",
            "|                               |                      |               MIG M. |\n",
            "|===============================+======================+======================|\n",
            "|   0  Tesla T4            Off  | 00000000:00:04.0 Off |                    0 |\n",
            "| N/A   44C    P8     9W /  70W |      0MiB / 15360MiB |      0%      Default |\n",
            "|                               |                      |                  N/A |\n",
            "+-------------------------------+----------------------+----------------------+\n",
            "                                                                               \n",
            "+-----------------------------------------------------------------------------+\n",
            "| Processes:                                                                  |\n",
            "|  GPU   GI   CI        PID   Type   Process name                  GPU Memory |\n",
            "|        ID   ID                                                   Usage      |\n",
            "|=============================================================================|\n",
            "|  No running processes found                                                 |\n",
            "+-----------------------------------------------------------------------------+\n"
          ]
        }
      ]
    },
    {
      "cell_type": "markdown",
      "source": [
        "**Data Types in Python**"
      ],
      "metadata": {
        "id": "33TusglgGf-i"
      }
    },
    {
      "cell_type": "markdown",
      "source": [
        "Integers are number with no decimal parts."
      ],
      "metadata": {
        "id": "jyeUrh_I_xaa"
      }
    },
    {
      "cell_type": "code",
      "source": [
        "userAge = 20\n",
        "mobileNumber = 12345\n",
        "print(userAge)\n",
        "print(type(userAge))"
      ],
      "metadata": {
        "colab": {
          "base_uri": "https://localhost:8080/"
        },
        "id": "mQedhya8_2oh",
        "outputId": "6b62fcef-ebae-457f-852f-d4e06ed9fefd"
      },
      "execution_count": null,
      "outputs": [
        {
          "output_type": "stream",
          "name": "stdout",
          "text": [
            "20\n",
            "<class 'int'>\n"
          ]
        }
      ]
    },
    {
      "cell_type": "markdown",
      "source": [
        "Float refers to numbers that have decimal parts."
      ],
      "metadata": {
        "id": "Vg4uM1r-_8uS"
      }
    },
    {
      "cell_type": "code",
      "source": [
        "userHeight = 1.85\n",
        "userWeight = 210"
      ],
      "metadata": {
        "id": "NKgr3skXAIt4"
      },
      "execution_count": null,
      "outputs": []
    },
    {
      "cell_type": "markdown",
      "source": [
        "String refers to text, for example"
      ],
      "metadata": {
        "id": "9O5KzurMAV2S"
      }
    },
    {
      "cell_type": "code",
      "source": [
        "userAge = '30'\n",
        "print(userAge)\n",
        "print(type(userAge))"
      ],
      "metadata": {
        "colab": {
          "base_uri": "https://localhost:8080/"
        },
        "id": "-ScdjmiVAdDM",
        "outputId": "3a5f3365-8cc2-4125-a10e-43cfc9aecf18"
      },
      "execution_count": null,
      "outputs": [
        {
          "output_type": "stream",
          "name": "stdout",
          "text": [
            "30\n",
            "<class 'str'>\n"
          ]
        }
      ]
    },
    {
      "cell_type": "markdown",
      "source": [
        "Using upper()"
      ],
      "metadata": {
        "id": "TzAcapI6Bnpj"
      }
    },
    {
      "cell_type": "code",
      "source": [
        "userName = 'John'\n",
        "# upper(userName)\n",
        "userName.upper"
      ],
      "metadata": {
        "colab": {
          "base_uri": "https://localhost:8080/"
        },
        "id": "jnLciVRvBpiJ",
        "outputId": "305c2bfc-4912-4d37-b138-54269352a578"
      },
      "execution_count": null,
      "outputs": [
        {
          "output_type": "execute_result",
          "data": {
            "text/plain": [
              "<function str.upper()>"
            ]
          },
          "metadata": {},
          "execution_count": 4
        }
      ]
    },
    {
      "cell_type": "markdown",
      "source": [
        "In Python, appending parentheses to a method name is essential to call the method. Without the parentheses, you're just referencing the method, not calling it. Also, if you want to see the output, you should use the print() function, especially in script mode. In interactive mode or notebooks, just calling userName.upper() might display the output, but in scripts, the print() function is generally necessary to see the output."
      ],
      "metadata": {
        "id": "oITbwWEJCOBK"
      }
    },
    {
      "cell_type": "code",
      "source": [
        "userName = 'John'\n",
        "# upper(userName)\n",
        "userName.upper()"
      ],
      "metadata": {
        "colab": {
          "base_uri": "https://localhost:8080/",
          "height": 36
        },
        "id": "6tTxifd_CLZW",
        "outputId": "24258334-a6db-4bfd-8f71-3cc825d54d4c"
      },
      "execution_count": null,
      "outputs": [
        {
          "output_type": "execute_result",
          "data": {
            "text/plain": [
              "'JOHN'"
            ],
            "application/vnd.google.colaboratory.intrinsic+json": {
              "type": "string"
            }
          },
          "metadata": {},
          "execution_count": 5
        }
      ]
    },
    {
      "cell_type": "code",
      "source": [],
      "metadata": {
        "id": "4uTcHIUYE0I2"
      },
      "execution_count": null,
      "outputs": []
    },
    {
      "cell_type": "markdown",
      "source": [
        "The following code in may give more information about using %s, %d and %4.2f"
      ],
      "metadata": {
        "id": "TUHHTC7EEEnF"
      }
    },
    {
      "cell_type": "code",
      "source": [
        "brand = 'Apple'\n",
        "exchangeRate = 1.235235245\n",
        "message = 'The price of this %s laptop is %d USD and the exchange rate is %4.2f USD to 1 EUR' %(brand, 1299,exchangeRate)\n",
        "print (message)"
      ],
      "metadata": {
        "colab": {
          "base_uri": "https://localhost:8080/"
        },
        "id": "FTOlevZ-EKXc",
        "outputId": "0b1d3655-bdb9-4a21-981e-c1bc94781024"
      },
      "execution_count": null,
      "outputs": [
        {
          "output_type": "stream",
          "name": "stdout",
          "text": [
            "The price of this Apple laptop is 1299 USD and the exchange rate is 1.24 USD to 1 EUR\n"
          ]
        }
      ]
    },
    {
      "cell_type": "markdown",
      "source": [
        "The %4.2f formatting specification in the code specifies how the float value should be formatted when inserted into the string. Here's a breakdown of its meaning:\n",
        "\n",
        "*   4 means that the field will take up at least 4 spaces. If the number is less than 4 digits, it will be padded with spaces in front.\n",
        "*   .2 means that the float value should be formatted with 2 digits after the decimal point. f means that the value should be formatted as a floating-point number.\n"
      ],
      "metadata": {
        "id": "acKM8ZfGE04K"
      }
    },
    {
      "cell_type": "markdown",
      "source": [
        "If the above % used in C, the following one is widely used in Python:\n",
        "The syntax is\n",
        "\"string to be formatted\".format(values or variables to be\n",
        "inserted into string, separated by commas)"
      ],
      "metadata": {
        "id": "z0II0fVdFESc"
      }
    },
    {
      "cell_type": "code",
      "source": [
        "message = 'The price of this {0:s} laptop is {1:d} USD and the exchange rate is {2:4.2f} USD to 1 EUR'.format('Apple', 1299, 1.235235245 )\n",
        "message"
      ],
      "metadata": {
        "colab": {
          "base_uri": "https://localhost:8080/",
          "height": 36
        },
        "id": "Z-sDecVMF1Xo",
        "outputId": "a8821ded-ce6b-450b-9713-dcd5cd6bf1bb"
      },
      "execution_count": null,
      "outputs": [
        {
          "output_type": "execute_result",
          "data": {
            "text/plain": [
              "'The price of this Apple laptop is 1299 USD and the exchange rate is 1.24 USD to 1 EUR'"
            ],
            "application/vnd.google.colaboratory.intrinsic+json": {
              "type": "string"
            }
          },
          "metadata": {},
          "execution_count": 7
        }
      ]
    },
    {
      "cell_type": "markdown",
      "source": [
        "Inside the braces, we first write the position of the argument to use,\n",
        "followed by a colon. After the colon, we write the formatter. There should\n",
        "not be any spaces within the braces. When we write format('Apple', 1299, 1.235235245) , we are passing in\n",
        "three arguments to the format() method. Arguments are data that the\n",
        "method needs in order to perform its task. The arguments are 'Apple' ,\n",
        "1299 and 1.235235245 ."
      ],
      "metadata": {
        "id": "eqBg9DEYGYvD"
      }
    },
    {
      "cell_type": "markdown",
      "source": [
        "When we write {0:s} , we are asking the interpreter to replace {0:s} with\n",
        "the argument in position 0 and that it is a string (because the formatter is s\n",
        "). When we write {2:4.2f} , we are referring to the argument in position 2,\n",
        "which is a float and we want it to be formatted with 2 decimal places and a\n",
        "total length of 4 (formatter is 4.2f )."
      ],
      "metadata": {
        "id": "TNzwT4lcKRsB"
      }
    },
    {
      "cell_type": "markdown",
      "source": [
        "Note: If you do not want to format the string, you can simply write"
      ],
      "metadata": {
        "id": "QVfqBt2LLB_2"
      }
    },
    {
      "cell_type": "markdown",
      "source": [],
      "metadata": {
        "id": "DGGjDSHKM7ft"
      }
    },
    {
      "cell_type": "code",
      "source": [
        "message = 'The price of this {} laptop is {} USD and the exchange rate is {} USD to 1 EUR'.format('Apple', 1299, 1.235235245 )\n",
        "message"
      ],
      "metadata": {
        "colab": {
          "base_uri": "https://localhost:8080/",
          "height": 36
        },
        "id": "SkoIiYxCLJLl",
        "outputId": "6251f7c0-cd0b-475d-834f-419442140b10"
      },
      "execution_count": null,
      "outputs": [
        {
          "output_type": "execute_result",
          "data": {
            "text/plain": [
              "'The price of this Apple laptop is 1299 USD and the exchange rate is 1.235235245 USD to 1 EUR'"
            ],
            "application/vnd.google.colaboratory.intrinsic+json": {
              "type": "string"
            }
          },
          "metadata": {},
          "execution_count": 8
        }
      ]
    },
    {
      "cell_type": "markdown",
      "source": [
        "**Type Casting in Python**"
      ],
      "metadata": {
        "id": "FB2CM0OjMydf"
      }
    },
    {
      "cell_type": "markdown",
      "source": [
        "Sometimes in our program, it is necessary for us to convert from one data\n",
        "type to another, such as from an integer to a string. This is known as type\n",
        "casting. There are three built-in functions in Python that allow us to do type casting.\n",
        "These are the int() , float() , and str() functions."
      ],
      "metadata": {
        "id": "BOMSR1DIM84j"
      }
    },
    {
      "cell_type": "markdown",
      "source": [
        "how many data type in python? ChatGPT told me as below:In Python, there are various built-in data types that serve different purposes. Numeric types include integers (int), floating-point numbers (float), and complex numbers (complex). For sequences, Python provides strings (str), lists (list), tuples (tuple), and ranges (range). In addition, there's a specialized text type (str) for textual data. Python also offers a mapping type known as dictionaries (dict). When it comes to sets, Python provides both mutable sets (set) and immutable frozensets (frozenset). Booleans (bool) serve as Python's built-in type for true-false conditions. Binary data can be handled using bytes (bytes), byte arrays (bytearray), and memory views (memoryview). Finally, Python has a special NoneType for representing null values. Custom types can be defined using classes, and it's also worth noting that there are specialized types like function and generator, although these are typically not counted among the basic built-in types."
      ],
      "metadata": {
        "id": "GqTPCUYGNXjN"
      }
    },
    {
      "cell_type": "markdown",
      "source": [
        "**List**"
      ],
      "metadata": {
        "id": "elxr8y_Tm8q8"
      }
    },
    {
      "cell_type": "markdown",
      "source": [
        "List refers to a collection of data which are normally related."
      ],
      "metadata": {
        "id": "BFeW20l9m-wZ"
      }
    },
    {
      "cell_type": "code",
      "source": [],
      "metadata": {
        "id": "X_SPCX4LnlPI"
      },
      "execution_count": null,
      "outputs": []
    },
    {
      "cell_type": "code",
      "source": [
        "userAge = [21, 22, 23, 24, 25]\n",
        "print(userAge[0])\n",
        "print(userAge[-1])\n"
      ],
      "metadata": {
        "colab": {
          "base_uri": "https://localhost:8080/"
        },
        "id": "T2pPWK8RnHXE",
        "outputId": "955c84df-4136-4442-cd47-b20b7b8f69af"
      },
      "execution_count": null,
      "outputs": [
        {
          "output_type": "stream",
          "name": "stdout",
          "text": [
            "21\n",
            "25\n"
          ]
        }
      ]
    },
    {
      "cell_type": "markdown",
      "source": [
        "Alternatively, you can access the values of a list from the back. The last\n",
        "item in the list has an index of -1"
      ],
      "metadata": {
        "id": "VPaCXl9hoMxb"
      }
    },
    {
      "cell_type": "markdown",
      "source": [
        "We can also declare a list without assigning any initial values to it. We\n",
        "simply write listName = [  ] . What we have now is an empty list with no\n",
        "items in it. We have to use the append() method mentioned later to add\n",
        "items to the list."
      ],
      "metadata": {
        "id": "9CfoLGYKnj_0"
      }
    },
    {
      "cell_type": "code",
      "source": [
        "userAge3 = userAge[2:4]\n",
        "print(userAge3)"
      ],
      "metadata": {
        "colab": {
          "base_uri": "https://localhost:8080/"
        },
        "id": "ecLZPA7Up5pc",
        "outputId": "99c76b07-8282-4949-a967-ba94ec8c600b"
      },
      "execution_count": null,
      "outputs": [
        {
          "output_type": "stream",
          "name": "stdout",
          "text": [
            "[23, 24]\n"
          ]
        }
      ]
    },
    {
      "cell_type": "markdown",
      "source": [
        "you are assigning items with\n",
        "index 2 to index 4-1 from the list userAge to the list userAge3 . In other\n",
        "words, userAge3 = [23, 24] . The notation 2:4 is known as a slice. Whenever we use the slice notation in\n",
        "Python, the item at the start index is always included, but the item at the end\n",
        "is **always excluded**."
      ],
      "metadata": {
        "id": "b8PyAS1kqDtg"
      }
    },
    {
      "cell_type": "code",
      "source": [
        "userAge4 = userAge[1:5:2]\n",
        "print(userAge4)"
      ],
      "metadata": {
        "colab": {
          "base_uri": "https://localhost:8080/"
        },
        "id": "AjrNO2FFrTIH",
        "outputId": "69e9cd6b-b7ad-435e-a6c7-c4f9678d9241"
      },
      "execution_count": null,
      "outputs": [
        {
          "output_type": "stream",
          "name": "stdout",
          "text": [
            "[22, 24]\n"
          ]
        }
      ]
    },
    {
      "cell_type": "markdown",
      "source": [
        "The slice notation includes a third number known as the stepper. If we write\n",
        "userAge4 = userAge[1:5:2] , we will get a sub list consisting of every\n",
        "second number from index 1 to index 5-1 because the stepper is 2. Hence,\n",
        "userAge4 = [22, 24] ."
      ],
      "metadata": {
        "id": "MSPVh58CrY0y"
      }
    },
    {
      "cell_type": "markdown",
      "source": [
        "In addition, slice notations have useful defaults. The default for the first\n",
        "number is zero, and the default for the second number is size of the list\n",
        "being sliced."
      ],
      "metadata": {
        "id": "dv79MlpCrq4h"
      }
    },
    {
      "cell_type": "code",
      "source": [
        "userAge[ :4]"
      ],
      "metadata": {
        "colab": {
          "base_uri": "https://localhost:8080/"
        },
        "id": "QfZfyacbrs-O",
        "outputId": "3495c101-6d3e-4784-d1b2-4d57669455e8"
      },
      "execution_count": null,
      "outputs": [
        {
          "output_type": "execute_result",
          "data": {
            "text/plain": [
              "[21, 22, 23, 24]"
            ]
          },
          "metadata": {},
          "execution_count": 12
        }
      ]
    },
    {
      "cell_type": "markdown",
      "source": [
        "For instance, userAge[ :4] gives you values from index 0 to\n",
        "index 4-1 while userAge[1: ] gives you values from index 1 to index 5-1\n",
        "(since the size of userAge is 5, i.e. userAge has 5 items)."
      ],
      "metadata": {
        "id": "rQLxZRD-rxSy"
      }
    },
    {
      "cell_type": "code",
      "source": [
        "userAge.append(99)\n",
        "userAge"
      ],
      "metadata": {
        "colab": {
          "base_uri": "https://localhost:8080/"
        },
        "id": "PWQXZgqavu6A",
        "outputId": "6ee853bc-c568-4691-81b8-6cc478965644"
      },
      "execution_count": null,
      "outputs": [
        {
          "output_type": "execute_result",
          "data": {
            "text/plain": [
              "[21, 22, 23, 24, 25, 99]"
            ]
          },
          "metadata": {},
          "execution_count": 13
        }
      ]
    },
    {
      "cell_type": "markdown",
      "source": [
        "To add items, you use the append() function. For instance, if you write\n",
        "userAge.append(99) , you add the value 99 to the end of the list. Your list\n",
        "is now userAge = [21, 22, 23, 24, 25, 99] ."
      ],
      "metadata": {
        "id": "ZCs2DjKPvqMC"
      }
    },
    {
      "cell_type": "code",
      "source": [
        "del userAge[2]"
      ],
      "metadata": {
        "id": "Zoi1LdAmwHPk"
      },
      "execution_count": null,
      "outputs": []
    },
    {
      "cell_type": "markdown",
      "source": [
        "To remove items, you write del listName[index of item to be\n",
        "deleted] . For instance, if you write del userAge[2] , your list now\n",
        "becomes userAge = [21, 22, 24, 25, 99] (the third item is deleted)"
      ],
      "metadata": {
        "id": "Ty9PIVLYwFpK"
      }
    },
    {
      "cell_type": "code",
      "source": [
        "print(userAge)"
      ],
      "metadata": {
        "colab": {
          "base_uri": "https://localhost:8080/"
        },
        "id": "on5RWPk-wMoP",
        "outputId": "e96a59a2-fbb3-44a8-b0ad-9f282d264ba0"
      },
      "execution_count": null,
      "outputs": [
        {
          "output_type": "stream",
          "name": "stdout",
          "text": [
            "[21, 22, 24, 25, 99]\n"
          ]
        }
      ]
    },
    {
      "cell_type": "markdown",
      "source": [],
      "metadata": {
        "id": "fgdO3hKIxKb2"
      }
    },
    {
      "cell_type": "markdown",
      "source": [
        "To fully appreciate the workings of a list, try running the following\n",
        "program."
      ],
      "metadata": {
        "id": "x8zgm0EGxFxo"
      }
    },
    {
      "cell_type": "code",
      "source": [
        "#declaring the list, list elements can be of different data types\n",
        "myList = [1, 2, 3, 4, 5, \"Hello\"]\n",
        "#print the entire list.\n",
        "print(myList)\n",
        "#You’ll get [1, 2, 3, 4, 5, \"Hello\"]\n",
        "#print the third item (recall: Index starts from zero).\n",
        "print(myList[2])\n",
        "#You’ll get 3\n",
        "#print the last item.\n",
        "print(myList[-1])\n",
        "#You’ll get \"Hello\"\n",
        "#assign myList (from index 1 to 4) to myList2 and print myList2\n",
        "myList2 = myList[1:5]\n",
        "print (myList2)\n",
        "#You’ll get [2, 3, 4, 5]\n",
        "#modify the second item in myList and print the updated list\n",
        "myList[1] = 20\n",
        "print(myList)\n",
        "#You’ll get [1, 20, 3, 4, 5, 'Hello']\n",
        "#append a new item to myList and print the updated list\n",
        "myList.append(\"How are you\")\n",
        "print(myList)\n",
        "#You’ll get [1, 20, 3, 4, 5, 'Hello', 'How are you']\n",
        "#remove the sixth item from myList and print the updated list\n",
        "del myList[5]\n",
        "print(myList)\n",
        "#You’ll get [1, 20, 3, 4, 5, 'How are you' ]"
      ],
      "metadata": {
        "colab": {
          "base_uri": "https://localhost:8080/"
        },
        "id": "hWAXQsLFxJk5",
        "outputId": "f368cad5-0a07-47e7-b756-ac57b7582cd9"
      },
      "execution_count": null,
      "outputs": [
        {
          "output_type": "stream",
          "name": "stdout",
          "text": [
            "[1, 2, 3, 4, 5, 'Hello']\n",
            "3\n",
            "Hello\n",
            "[2, 3, 4, 5]\n",
            "[1, 20, 3, 4, 5, 'Hello']\n",
            "[1, 20, 3, 4, 5, 'Hello', 'How are you']\n",
            "[1, 20, 3, 4, 5, 'How are you']\n"
          ]
        }
      ]
    },
    {
      "cell_type": "markdown",
      "source": [
        "Tuples are just like lists, but you cannot modify their values. The initial\n",
        "values are the values that will stay for the rest of the program. An example\n",
        "where tuples are useful is when your program needs to store the names of\n",
        "the months of the year. To declare a tuple, you write tupleName = (initial values) . Notice that\n",
        "we use parentheses ( ) when declaring a tuple. Multiple values are separated\n",
        "by a comma."
      ],
      "metadata": {
        "id": "grsNJX35z8_v"
      }
    },
    {
      "cell_type": "code",
      "source": [
        "monthsOfYear = (\"Jan\", \"Feb\", \"Mar\", \"Apr\", \"May\", \"Jun\",\n",
        "\"Jul\", \"Aug\", \"Sep\", \"Oct\", \"Nov\", \"Dec\")"
      ],
      "metadata": {
        "id": "hKMBY0r30Lqr"
      },
      "execution_count": null,
      "outputs": []
    },
    {
      "cell_type": "markdown",
      "source": [
        "**Dictionary**"
      ],
      "metadata": {
        "id": "_xT4dx9y1Pn7"
      }
    },
    {
      "cell_type": "markdown",
      "source": [
        "Dictionary is a collection of related data PAIRS. For instance, if we want to\n",
        "store the username and age of 5 users, we can store them in a dictionary. To declare a dictionary, you write dictionaryName = {dictionary key :\n",
        "data} , with the requirement that dictionary keys must be unique (within\n",
        "one dictionary). That is, you should not declare a dictionary like this"
      ],
      "metadata": {
        "id": "Tu1aXCSs1SP-"
      }
    },
    {
      "cell_type": "code",
      "source": [
        "myDictionary = {\"Peter\":38, \"John\":51, \"Peter\":13}\n",
        "print(myDictionary)"
      ],
      "metadata": {
        "colab": {
          "base_uri": "https://localhost:8080/"
        },
        "id": "UBsFfFXH2k6n",
        "outputId": "22e7a6d3-0b7b-46f5-e904-47e1c78a0721"
      },
      "execution_count": null,
      "outputs": [
        {
          "output_type": "stream",
          "name": "stdout",
          "text": [
            "{'Peter': 13, 'John': 51}\n"
          ]
        }
      ]
    },
    {
      "cell_type": "markdown",
      "source": [
        "To remove items from a dictionary, we write del\n",
        "dictionaryName[dictionary key] . For instance, to remove the\n",
        "\"Alex\":13 pair, we write del userNameAndAge[\"Alex\"] . Our dictionary\n",
        "now becomes userNameAndAge = {\"Peter\":38, \"John\":21,\n",
        "\"Alvin\":\"Not Available\", \"Joe\":40}"
      ],
      "metadata": {
        "id": "FL-_xiAn53SN"
      }
    },
    {
      "cell_type": "code",
      "source": [
        "del myDictionary[\"Peter\"]"
      ],
      "metadata": {
        "id": "r3rvlokE56QK"
      },
      "execution_count": null,
      "outputs": []
    },
    {
      "cell_type": "code",
      "source": [
        "print(myDictionary)"
      ],
      "metadata": {
        "colab": {
          "base_uri": "https://localhost:8080/"
        },
        "id": "Fpv8DIa86HfO",
        "outputId": "adb43f2b-4f1c-4bf6-fd42-5b2e1e07f475"
      },
      "execution_count": null,
      "outputs": [
        {
          "output_type": "stream",
          "name": "stdout",
          "text": [
            "{'John': 51}\n"
          ]
        }
      ]
    },
    {
      "cell_type": "markdown",
      "source": [
        "Run the following program to see all these in action."
      ],
      "metadata": {
        "id": "xjoWXF2n6K6H"
      }
    },
    {
      "cell_type": "code",
      "source": [
        "#declaring the dictionary, dictionary keys and data can be of different data types\n",
        "myDict = {\"One\":1.35, 2.5:\"Two Point Five\", 3:\"+\", 7.9:2}\n",
        "#print the entire dictionary\n",
        "print(myDict)\n",
        "#You’ll get {'One': 1.35, 2.5: 'Two Point Five', 3: '+', 7.9:2}\n",
        "#Items may be displayed in a different order\n",
        "#Items in a dictionary are not necessarily stored in the same order as the way you declared them.\n",
        "#print the item with key = \"One\".\n",
        "print(myDict[\"One\"])\n",
        "#You’ll get 1.3 5\n",
        "#print the item with key = 7.9.\n",
        "print(myDict[7.9])\n",
        "#You’ll get 2\n",
        "#modify the item with key = 2.5 and print the updated dictionary\n",
        "myDict[2.5] = \"Two and a Half\"\n",
        "print(myDict)\n",
        "#You’ll get {'One': 1.35, 2.5: 'Two and a Half', 3: '+', 7.9: 2}\n",
        "#add a new item and print the updated dictionary\n",
        "myDict[\"New item\"] = \"I’m new\"\n",
        "print(myDict)\n",
        "#You’ll get {'One': 1.35, 2.5: 'Two and a Half', 3: '+', 7.9: 2, 'New item': 'I’m new'}\n",
        "#remove the item with key = \"One\" and print the updated dictionary\n",
        "del myDict[\"One\"]\n",
        "print(myDict)\n",
        "#You’ll get {2.5: 'Two and a Half', 3: '+', 7.9: 2, 'New item': 'I’m new'}"
      ],
      "metadata": {
        "colab": {
          "base_uri": "https://localhost:8080/"
        },
        "id": "BppU2XSA6Nkp",
        "outputId": "5033e7f1-de1d-4120-a08d-539d020aea62"
      },
      "execution_count": null,
      "outputs": [
        {
          "output_type": "stream",
          "name": "stdout",
          "text": [
            "{'One': 1.35, 2.5: 'Two Point Five', 3: '+', 7.9: 2}\n",
            "1.35\n",
            "2\n",
            "{'One': 1.35, 2.5: 'Two and a Half', 3: '+', 7.9: 2}\n",
            "{'One': 1.35, 2.5: 'Two and a Half', 3: '+', 7.9: 2, 'New item': 'I’m new'}\n",
            "{2.5: 'Two and a Half', 3: '+', 7.9: 2, 'New item': 'I’m new'}\n"
          ]
        }
      ]
    },
    {
      "cell_type": "markdown",
      "source": [
        "**Making Your Program Interactive**"
      ],
      "metadata": {
        "id": "f0GvN_vH6cZa"
      }
    },
    {
      "cell_type": "markdown",
      "source": [
        "There are some similar functions appeared in C, so I skip the most functions of the topic."
      ],
      "metadata": {
        "id": "Qnl11pff6lmS"
      }
    },
    {
      "cell_type": "markdown",
      "source": [
        "In some cases, we may want to display a long message using the print()\n",
        "function. To do that, we can use the triple-quote symbol (''' or \"\"\") to span\n",
        "our message over multiple lines. For instance,"
      ],
      "metadata": {
        "id": "rmN5YUd561Bq"
      }
    },
    {
      "cell_type": "code",
      "source": [
        "print ('''Hello World.\n",
        "My name is James and\n",
        "I am 20 years old.''')"
      ],
      "metadata": {
        "colab": {
          "base_uri": "https://localhost:8080/"
        },
        "id": "-ybVL0SM63l8",
        "outputId": "4099ead9-aaca-4634-8ea0-03f0b1775395"
      },
      "execution_count": null,
      "outputs": [
        {
          "output_type": "stream",
          "name": "stdout",
          "text": [
            "Hello World.\n",
            "My name is James and\n",
            "I am 20 years old.\n"
          ]
        }
      ]
    },
    {
      "cell_type": "markdown",
      "source": [
        "Sometimes we may also need to print some special “unprintable” characters\n",
        "such as a tab or a newline. In this case, we need to use the \\ (backslash)\n",
        "character to escape characters that otherwise have a different meaning."
      ],
      "metadata": {
        "id": "merL-wyl69RA"
      }
    },
    {
      "cell_type": "code",
      "source": [
        "print ('Hello\\tWorld')"
      ],
      "metadata": {
        "colab": {
          "base_uri": "https://localhost:8080/"
        },
        "id": "vLlAX3gu81Rh",
        "outputId": "a556a2d5-467b-4846-cc6b-934b6675094b"
      },
      "execution_count": null,
      "outputs": [
        {
          "output_type": "stream",
          "name": "stdout",
          "text": [
            "Hello\tWorld\n"
          ]
        }
      ]
    },
    {
      "cell_type": "code",
      "source": [
        "print ('Hello\\nWorld')"
      ],
      "metadata": {
        "colab": {
          "base_uri": "https://localhost:8080/"
        },
        "id": "Ql7BdN6l84Dx",
        "outputId": "fc58f79f-203d-4341-8934-c0f7098d2958"
      },
      "execution_count": null,
      "outputs": [
        {
          "output_type": "stream",
          "name": "stdout",
          "text": [
            "Hello\n",
            "World\n"
          ]
        }
      ]
    },
    {
      "cell_type": "code",
      "source": [
        "print ('\\\\')"
      ],
      "metadata": {
        "colab": {
          "base_uri": "https://localhost:8080/"
        },
        "id": "3glSX9_I86zD",
        "outputId": "89cb6a9b-913b-49d3-8584-4e309f5129aa"
      },
      "execution_count": null,
      "outputs": [
        {
          "output_type": "stream",
          "name": "stdout",
          "text": [
            "\\\n"
          ]
        }
      ]
    },
    {
      "cell_type": "markdown",
      "source": [
        "**For Loop**"
      ],
      "metadata": {
        "id": "rL39bL8jAsJm"
      }
    },
    {
      "cell_type": "code",
      "source": [
        "pets = ['cats', 'dogs', 'rabbits', 'hamsters']\n",
        "for myPets in pets:\n",
        "    print(myPets)"
      ],
      "metadata": {
        "colab": {
          "base_uri": "https://localhost:8080/"
        },
        "id": "e5fYvPfsA3iJ",
        "outputId": "ad3f141d-907d-498d-b9ec-e7d494fb6f87"
      },
      "execution_count": null,
      "outputs": [
        {
          "output_type": "stream",
          "name": "stdout",
          "text": [
            "cats\n",
            "dogs\n",
            "rabbits\n",
            "hamsters\n"
          ]
        }
      ]
    },
    {
      "cell_type": "markdown",
      "source": [
        "We can also display the index of the members in the list. To do that, we use\n",
        "the enumerate() function."
      ],
      "metadata": {
        "id": "52rfiLLfBOj9"
      }
    },
    {
      "cell_type": "code",
      "source": [
        "for index, myPets in enumerate(pets):\n",
        "    print(index, myPets)"
      ],
      "metadata": {
        "colab": {
          "base_uri": "https://localhost:8080/"
        },
        "id": "M1pd7JMHBURA",
        "outputId": "44d44245-361e-4e22-a967-ad47784d7539"
      },
      "execution_count": null,
      "outputs": [
        {
          "output_type": "stream",
          "name": "stdout",
          "text": [
            "0 cats\n",
            "1 dogs\n",
            "2 rabbits\n",
            "3 hamsters\n"
          ]
        }
      ]
    },
    {
      "cell_type": "markdown",
      "source": [
        "Sometimes, it is getting confused with dictionary."
      ],
      "metadata": {
        "id": "y8NQbJXJBmyJ"
      }
    },
    {
      "cell_type": "code",
      "source": [
        "age = {'Peter': 5, 'John':7}\n",
        "\n",
        "for i in age:\n",
        "   print(i)\n"
      ],
      "metadata": {
        "colab": {
          "base_uri": "https://localhost:8080/"
        },
        "id": "6L9-qzNdCMHN",
        "outputId": "8d76b279-d0bf-4c7f-9334-3722bccc8363"
      },
      "execution_count": null,
      "outputs": [
        {
          "output_type": "stream",
          "name": "stdout",
          "text": [
            "Peter\n",
            "John\n"
          ]
        }
      ]
    },
    {
      "cell_type": "code",
      "source": [
        "for i in age:\n",
        "    print(\"Name = %s, Age = %d\" %(i, age[i]))"
      ],
      "metadata": {
        "colab": {
          "base_uri": "https://localhost:8080/"
        },
        "id": "ioN1aWRfCOJg",
        "outputId": "4c9f6554-2769-4501-9605-d3c9cd045ca8"
      },
      "execution_count": null,
      "outputs": [
        {
          "output_type": "stream",
          "name": "stdout",
          "text": [
            "Name = Peter, Age = 5\n",
            "Name = John, Age = 7\n"
          ]
        }
      ]
    },
    {
      "cell_type": "markdown",
      "source": [
        "**Looping through a sequence of numbers**"
      ],
      "metadata": {
        "id": "SwREGCzPT43n"
      }
    },
    {
      "cell_type": "markdown",
      "source": [
        "To loop through a sequence of numbers, the built-in range() function\n",
        "comes in handy. The range() function generates a list of numbers and has\n",
        "the syntax range(start, end, step) .If start is not given, the numbers generated will start from zero ."
      ],
      "metadata": {
        "id": "8YzWNVmGUAyl"
      }
    }
  ]
}